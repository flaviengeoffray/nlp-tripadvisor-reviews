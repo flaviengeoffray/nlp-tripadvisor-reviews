{
 "cells": [
  {
   "cell_type": "code",
   "execution_count": 1,
   "metadata": {},
   "outputs": [
    {
     "name": "stderr",
     "output_type": "stream",
     "text": [
      "/home/acours/miniconda3/envs/ing2/lib/python3.13/site-packages/tqdm/auto.py:21: TqdmWarning: IProgress not found. Please update jupyter and ipywidgets. See https://ipywidgets.readthedocs.io/en/stable/user_install.html\n",
      "  from .autonotebook import tqdm as notebook_tqdm\n",
      "[nltk_data] Downloading package stopwords to /home/acours/nltk_data...\n",
      "[nltk_data]   Package stopwords is already up-to-date!\n"
     ]
    }
   ],
   "source": [
    "from datasets import load_dataset\n",
    "import pandas as pd\n",
    "from sklearn.model_selection import train_test_split\n",
    "import torch\n",
    "import torch.nn as nn\n",
    "import torch.optim as optim\n",
    "import numpy as np\n",
    "from collections import Counter\n",
    "import random\n",
    "import nltk\n",
    "from nltk.tokenize import word_tokenize, sent_tokenize\n",
    "from nltk.corpus import stopwords\n",
    "\n",
    "nltk.download(\"stopwords\")\n",
    "import string"
   ]
  },
  {
   "cell_type": "code",
   "execution_count": 2,
   "metadata": {},
   "outputs": [
    {
     "name": "stdout",
     "output_type": "stream",
     "text": [
      "Using GPU: NVIDIA GeForce RTX 3050 Ti Laptop GPU\n"
     ]
    }
   ],
   "source": [
    "if torch.backends.mps.is_available():\n",
    "    device = torch.device(\"mps\")\n",
    "    x = torch.ones(1, device=device)\n",
    "    print(x)\n",
    "elif torch.cuda.is_available():\n",
    "    device = torch.device(\"cuda\")\n",
    "    print(\"Using GPU:\", torch.cuda.get_device_name(0))\n",
    "else:\n",
    "    device = torch.device(\"cpu\")\n",
    "    print(\"Using CPU\")"
   ]
  },
  {
   "cell_type": "code",
   "execution_count": 3,
   "metadata": {},
   "outputs": [
    {
     "data": {
      "application/vnd.microsoft.datawrangler.viewer.v0+json": {
       "columns": [
        {
         "name": "index",
         "rawType": "int64",
         "type": "integer"
        },
        {
         "name": "hotel_id",
         "rawType": "int64",
         "type": "integer"
        },
        {
         "name": "user_id",
         "rawType": "object",
         "type": "string"
        },
        {
         "name": "title",
         "rawType": "object",
         "type": "string"
        },
        {
         "name": "text",
         "rawType": "object",
         "type": "string"
        },
        {
         "name": "overall",
         "rawType": "float64",
         "type": "float"
        },
        {
         "name": "cleanliness",
         "rawType": "float64",
         "type": "float"
        },
        {
         "name": "value",
         "rawType": "float64",
         "type": "float"
        },
        {
         "name": "location",
         "rawType": "float64",
         "type": "float"
        },
        {
         "name": "rooms",
         "rawType": "float64",
         "type": "float"
        },
        {
         "name": "sleep_quality",
         "rawType": "float64",
         "type": "float"
        },
        {
         "name": "stay_year",
         "rawType": "int64",
         "type": "integer"
        },
        {
         "name": "post_date",
         "rawType": "datetime64[ns]",
         "type": "datetime"
        },
        {
         "name": "freq",
         "rawType": "int64",
         "type": "integer"
        },
        {
         "name": "review",
         "rawType": "object",
         "type": "string"
        },
        {
         "name": "char",
         "rawType": "int64",
         "type": "integer"
        },
        {
         "name": "lang",
         "rawType": "object",
         "type": "string"
        }
       ],
       "conversionMethod": "pd.DataFrame",
       "ref": "60f7acec-eb24-4862-a8de-4022bbffb2cd",
       "rows": [
        [
         "0",
         "127781101",
         "2262DCBFC351F42A9DD30AC8BAD24686",
         "Really excellent Hilton",
         "Stayed here on business trips and the hotel is excellent for business trips. Staff is excellent and really helpful. VERY clean hotel. Best choice in San Diego; especially a Hilton.",
         "5.0",
         "4.0",
         "5.0",
         "4.0",
         "5.0",
         "4.0",
         "2012",
         "2012-04-13 00:00:00",
         "1",
         "Really excellent Hilton\nStayed here on business trips and the hotel is excellent for business trips. Staff is excellent and really helpful. VERY clean hotel. Best choice in San Diego; especially a Hilton.",
         "204",
         "__label__en"
        ],
        [
         "1",
         "137380592",
         "8477E11DABF4D6743885E401BB4C8CCF",
         "Exceptional service and comfort",
         "Spent two nights here for a wedding in Brooklyn. The staff members were all exceptionally friendly and professional, from the doormen and bellhops to the front-desk and concierge. I was especially grateful that Kevin, a bartender in the Ritz's off-lobby bar, was able to tie my bowtie -- I would have looked pretty foolish otherwise. He made it look perfect. Our room was spacious and comfortable, with a large bathroom and king-size bed that provided some of the best sleep I can remember in a hotel. My only disappointment was that the fitness center did not offer a sauna or steam room.",
         "5.0",
         "5.0",
         "4.0",
         "5.0",
         "4.0",
         "5.0",
         "2012",
         "2012-08-16 00:00:00",
         "1",
         "Exceptional service and comfort\nSpent two nights here for a wedding in Brooklyn. The staff members were all exceptionally friendly and professional, from the doormen and bellhops to the front-desk and concierge. I was especially grateful that Kevin, a bartender in the Ritz's off-lobby bar, was able to tie my bowtie -- I would have looked pretty foolish otherwise. He made it look perfect. Our room was spacious and comfortable, with a large bathroom and king-size bed that provided some of the best sleep I can remember in a hotel. My only disappointment was that the fitness center did not offer a sauna or steam room.",
         "621",
         "__label__en"
        ],
        [
         "2",
         "129673371",
         "483A193B7113ADFFD5CE30849564F69C",
         "Nice room and five star service",
         "Great place for a 3-night stay. Our king room overlooked the pool and was very quiet. But we sure did not need the bed's heavy comforter in the Texas heat. Fortunately, there was a light blanket in the closet. \nService could not have been better. Staff members were amazingly helpful, friendly, and knowledgable about the area. I made an online reservation the day before I wanted to arrive, and I requested a room without scenting cleaning products and away from the elevator. Staff made sure BOTH requests were fulfilled! Later when the in-room telephone misbehaved, a hotel employee was promptly there to fix it. A front desk clerk knew just where to find a nearby self-serve carwash. When the TV was blaring in the breakfast room, we were able to get the sound turned down. During our visit, we bought a new camera and accidentally trashed the camera box with the strap inside. Our garbage had just been taken out, so we asked if we could check the trash. A staff member volunteered to check the garbage, and he found the box, retrieved the strap, and had it delivered to our room in very little time!\nBonuses included the freshly baked cookies at the front desk and DVDs to check out for free (the rooms have DVD players).",
         "5.0",
         "5.0",
         "5.0",
         "3.0",
         "5.0",
         "4.0",
         "2012",
         "2012-05-09 00:00:00",
         "1",
         "Nice room and five star service\nGreat place for a 3-night stay. Our king room overlooked the pool and was very quiet. But we sure did not need the bed's heavy comforter in the Texas heat. Fortunately, there was a light blanket in the closet. \nService could not have been better. Staff members were amazingly helpful, friendly, and knowledgable about the area. I made an online reservation the day before I wanted to arrive, and I requested a room without scenting cleaning products and away from the elevator. Staff made sure BOTH requests were fulfilled! Later when the in-room telephone misbehaved, a hotel employee was promptly there to fix it. A front desk clerk knew just where to find a nearby self-serve carwash. When the TV was blaring in the breakfast room, we were able to get the sound turned down. During our visit, we bought a new camera and accidentally trashed the camera box with the strap inside. Our garbage had just been taken out, so we asked if we could check the trash. A staff member volunteered to check the garbage, and he found the box, retrieved the strap, and had it delivered to our room in very little time!\nBonuses included the freshly baked cookies at the front desk and DVDs to check out for free (the rooms have DVD players).",
         "1259",
         "__label__en"
        ],
        [
         "3",
         "129006626",
         "E5A63DD7239A7057746D4644A5C986EB",
         "BRILLIANT hotel, my #1 Chicago pick for business and pleasure",
         "This is my favorite hotel in Chicago, and I've stayed at all the top luxury properties (Four Seasons, Hyatts etc). I've stayed at this hotel 20+ times, it's a hidden gem. Right on the lakefront, there's a beach across the street from the hotel, and if you get a lake view room (be sure to ask), you'll spend some quality zen time gazing at the water. Regardless of which room you get, you can leave your window shades open because you have beautiful views in every direction plus no one overlooking you. \nRooms are fantastic - I love the clever, well-designed furniture and fittings, simple, minimal, and very well-designed. Honey-colored lighting plus a multiplicity of window treatments (blackout shades plus twig shades plus sheer sun shades) means that you can adjust the lighting to make yourself feel cheerful and relaxed. The bathroom is gorgeous, plus clever 'window' out to main room means excellent ventilation and light. \nThe huge lobby is my favorite hangout in Chicago. The ground-floor location means you're connected to the street-level location and yet the plush chairs, sofas etc mean that you totally zen out and relax. I always try to conduct business meetings in the lobby - plenty of space, beautiful room and excellent food/drinks menu and service means that my guest invariably remarks 'wow, this is a great place, I've never been here before.' I've won almost every negotiation conducted in the lobby, ply your opponents with drinks plus finger food plus a terry cloth robe and they will give you all that you want :)\nAlso love the staff - they totally deal with whatever questions I have or help that I need. This is an EXCELLENT hotel for BUSINESS travelers, the staff is exceptionally helpful running meetings, handling phone calls etc. And special shout-out to the car valet staff and doorman staff - Chicago can be incredibly cold, but the staff always has your car (or taxi) warmed up and waiting for you, I've never met better service. Ever. The front desk also have my airplane boarding passes printed out when I come down to check out, plus a pre-visit call means they will help you maximize spg points etc.\nStay here every time you visit Chicago.",
         "5.0",
         "5.0",
         "5.0",
         "5.0",
         "5.0",
         "5.0",
         "2012",
         "2012-04-28 00:00:00",
         "1",
         "BRILLIANT hotel, my #1 Chicago pick for business and pleasure\nThis is my favorite hotel in Chicago, and I've stayed at all the top luxury properties (Four Seasons, Hyatts etc). I've stayed at this hotel 20+ times, it's a hidden gem. Right on the lakefront, there's a beach across the street from the hotel, and if you get a lake view room (be sure to ask), you'll spend some quality zen time gazing at the water. Regardless of which room you get, you can leave your window shades open because you have beautiful views in every direction plus no one overlooking you. \nRooms are fantastic - I love the clever, well-designed furniture and fittings, simple, minimal, and very well-designed. Honey-colored lighting plus a multiplicity of window treatments (blackout shades plus twig shades plus sheer sun shades) means that you can adjust the lighting to make yourself feel cheerful and relaxed. The bathroom is gorgeous, plus clever 'window' out to main room means excellent ventilation and light. \nThe huge lobby is my favorite hangout in Chicago. The ground-floor location means you're connected to the street-level location and yet the plush chairs, sofas etc mean that you totally zen out and relax. I always try to conduct business meetings in the lobby - plenty of space, beautiful room and excellent food/drinks menu and service means that my guest invariably remarks 'wow, this is a great place, I've never been here before.' I've won almost every negotiation conducted in the lobby, ply your opponents with drinks plus finger food plus a terry cloth robe and they will give you all that you want :)\nAlso love the staff - they totally deal with whatever questions I have or help that I need. This is an EXCELLENT hotel for BUSINESS travelers, the staff is exceptionally helpful running meetings, handling phone calls etc. And special shout-out to the car valet staff and doorman staff - Chicago can be incredibly cold, but the staff always has your car (or taxi) warmed up and waiting for you, I've never met better service. Ever. The front desk also have my airplane boarding passes printed out when I come down to check out, plus a pre-visit call means they will help you maximize spg points etc.\nStay here every time you visit Chicago.",
         "2242",
         "__label__en"
        ],
        [
         "4",
         "139168159",
         "CBFE281C9386225267BC52518836A6C2",
         "Convenient and comfortable",
         "BEST. BREAKFAST. EVER. Couldn't have been happier with the food, staff, and room. Absolutely wonderful. The location was just off of 16th, but situated in such a way that it wasn't always busy. Parking was easy to get in and out of, and the staff was very friendly and helpful with questions of how to get to where in downtown Denver. With the 16th street mall being so close, it couldn't have been more convenient for us to get to where we wanted to be. Absolutely fantastic weekend.",
         "5.0",
         "5.0",
         "4.0",
         "5.0",
         "4.0",
         "5.0",
         "2012",
         "2012-09-02 00:00:00",
         "1",
         "Convenient and comfortable\nBEST. BREAKFAST. EVER. Couldn't have been happier with the food, staff, and room. Absolutely wonderful. The location was just off of 16th, but situated in such a way that it wasn't always busy. Parking was easy to get in and out of, and the staff was very friendly and helpful with questions of how to get to where in downtown Denver. With the 16th street mall being so close, it couldn't have been more convenient for us to get to where we wanted to be. Absolutely fantastic weekend.",
         "511",
         "__label__en"
        ]
       ],
       "shape": {
        "columns": 16,
        "rows": 5
       }
      },
      "text/html": [
       "<div>\n",
       "<style scoped>\n",
       "    .dataframe tbody tr th:only-of-type {\n",
       "        vertical-align: middle;\n",
       "    }\n",
       "\n",
       "    .dataframe tbody tr th {\n",
       "        vertical-align: top;\n",
       "    }\n",
       "\n",
       "    .dataframe thead th {\n",
       "        text-align: right;\n",
       "    }\n",
       "</style>\n",
       "<table border=\"1\" class=\"dataframe\">\n",
       "  <thead>\n",
       "    <tr style=\"text-align: right;\">\n",
       "      <th></th>\n",
       "      <th>hotel_id</th>\n",
       "      <th>user_id</th>\n",
       "      <th>title</th>\n",
       "      <th>text</th>\n",
       "      <th>overall</th>\n",
       "      <th>cleanliness</th>\n",
       "      <th>value</th>\n",
       "      <th>location</th>\n",
       "      <th>rooms</th>\n",
       "      <th>sleep_quality</th>\n",
       "      <th>stay_year</th>\n",
       "      <th>post_date</th>\n",
       "      <th>freq</th>\n",
       "      <th>review</th>\n",
       "      <th>char</th>\n",
       "      <th>lang</th>\n",
       "    </tr>\n",
       "  </thead>\n",
       "  <tbody>\n",
       "    <tr>\n",
       "      <th>0</th>\n",
       "      <td>127781101</td>\n",
       "      <td>2262DCBFC351F42A9DD30AC8BAD24686</td>\n",
       "      <td>Really excellent Hilton</td>\n",
       "      <td>Stayed here on business trips and the hotel is...</td>\n",
       "      <td>5.0</td>\n",
       "      <td>4.0</td>\n",
       "      <td>5.0</td>\n",
       "      <td>4.0</td>\n",
       "      <td>5.0</td>\n",
       "      <td>4.0</td>\n",
       "      <td>2012</td>\n",
       "      <td>2012-04-13</td>\n",
       "      <td>1</td>\n",
       "      <td>Really excellent Hilton\\nStayed here on busine...</td>\n",
       "      <td>204</td>\n",
       "      <td>__label__en</td>\n",
       "    </tr>\n",
       "    <tr>\n",
       "      <th>1</th>\n",
       "      <td>137380592</td>\n",
       "      <td>8477E11DABF4D6743885E401BB4C8CCF</td>\n",
       "      <td>Exceptional service and comfort</td>\n",
       "      <td>Spent two nights here for a wedding in Brookly...</td>\n",
       "      <td>5.0</td>\n",
       "      <td>5.0</td>\n",
       "      <td>4.0</td>\n",
       "      <td>5.0</td>\n",
       "      <td>4.0</td>\n",
       "      <td>5.0</td>\n",
       "      <td>2012</td>\n",
       "      <td>2012-08-16</td>\n",
       "      <td>1</td>\n",
       "      <td>Exceptional service and comfort\\nSpent two nig...</td>\n",
       "      <td>621</td>\n",
       "      <td>__label__en</td>\n",
       "    </tr>\n",
       "    <tr>\n",
       "      <th>2</th>\n",
       "      <td>129673371</td>\n",
       "      <td>483A193B7113ADFFD5CE30849564F69C</td>\n",
       "      <td>Nice room and five star service</td>\n",
       "      <td>Great place for a 3-night stay. Our king room ...</td>\n",
       "      <td>5.0</td>\n",
       "      <td>5.0</td>\n",
       "      <td>5.0</td>\n",
       "      <td>3.0</td>\n",
       "      <td>5.0</td>\n",
       "      <td>4.0</td>\n",
       "      <td>2012</td>\n",
       "      <td>2012-05-09</td>\n",
       "      <td>1</td>\n",
       "      <td>Nice room and five star service\\nGreat place f...</td>\n",
       "      <td>1259</td>\n",
       "      <td>__label__en</td>\n",
       "    </tr>\n",
       "    <tr>\n",
       "      <th>3</th>\n",
       "      <td>129006626</td>\n",
       "      <td>E5A63DD7239A7057746D4644A5C986EB</td>\n",
       "      <td>BRILLIANT hotel, my #1 Chicago pick for busine...</td>\n",
       "      <td>This is my favorite hotel in Chicago, and I've...</td>\n",
       "      <td>5.0</td>\n",
       "      <td>5.0</td>\n",
       "      <td>5.0</td>\n",
       "      <td>5.0</td>\n",
       "      <td>5.0</td>\n",
       "      <td>5.0</td>\n",
       "      <td>2012</td>\n",
       "      <td>2012-04-28</td>\n",
       "      <td>1</td>\n",
       "      <td>BRILLIANT hotel, my #1 Chicago pick for busine...</td>\n",
       "      <td>2242</td>\n",
       "      <td>__label__en</td>\n",
       "    </tr>\n",
       "    <tr>\n",
       "      <th>4</th>\n",
       "      <td>139168159</td>\n",
       "      <td>CBFE281C9386225267BC52518836A6C2</td>\n",
       "      <td>Convenient and comfortable</td>\n",
       "      <td>BEST. BREAKFAST. EVER. Couldn't have been happ...</td>\n",
       "      <td>5.0</td>\n",
       "      <td>5.0</td>\n",
       "      <td>4.0</td>\n",
       "      <td>5.0</td>\n",
       "      <td>4.0</td>\n",
       "      <td>5.0</td>\n",
       "      <td>2012</td>\n",
       "      <td>2012-09-02</td>\n",
       "      <td>1</td>\n",
       "      <td>Convenient and comfortable\\nBEST. BREAKFAST. E...</td>\n",
       "      <td>511</td>\n",
       "      <td>__label__en</td>\n",
       "    </tr>\n",
       "  </tbody>\n",
       "</table>\n",
       "</div>"
      ],
      "text/plain": [
       "    hotel_id                           user_id  \\\n",
       "0  127781101  2262DCBFC351F42A9DD30AC8BAD24686   \n",
       "1  137380592  8477E11DABF4D6743885E401BB4C8CCF   \n",
       "2  129673371  483A193B7113ADFFD5CE30849564F69C   \n",
       "3  129006626  E5A63DD7239A7057746D4644A5C986EB   \n",
       "4  139168159  CBFE281C9386225267BC52518836A6C2   \n",
       "\n",
       "                                               title  \\\n",
       "0                            Really excellent Hilton   \n",
       "1                    Exceptional service and comfort   \n",
       "2                    Nice room and five star service   \n",
       "3  BRILLIANT hotel, my #1 Chicago pick for busine...   \n",
       "4                         Convenient and comfortable   \n",
       "\n",
       "                                                text  overall  cleanliness  \\\n",
       "0  Stayed here on business trips and the hotel is...      5.0          4.0   \n",
       "1  Spent two nights here for a wedding in Brookly...      5.0          5.0   \n",
       "2  Great place for a 3-night stay. Our king room ...      5.0          5.0   \n",
       "3  This is my favorite hotel in Chicago, and I've...      5.0          5.0   \n",
       "4  BEST. BREAKFAST. EVER. Couldn't have been happ...      5.0          5.0   \n",
       "\n",
       "   value  location  rooms  sleep_quality  stay_year  post_date  freq  \\\n",
       "0    5.0       4.0    5.0            4.0       2012 2012-04-13     1   \n",
       "1    4.0       5.0    4.0            5.0       2012 2012-08-16     1   \n",
       "2    5.0       3.0    5.0            4.0       2012 2012-05-09     1   \n",
       "3    5.0       5.0    5.0            5.0       2012 2012-04-28     1   \n",
       "4    4.0       5.0    4.0            5.0       2012 2012-09-02     1   \n",
       "\n",
       "                                              review  char         lang  \n",
       "0  Really excellent Hilton\\nStayed here on busine...   204  __label__en  \n",
       "1  Exceptional service and comfort\\nSpent two nig...   621  __label__en  \n",
       "2  Nice room and five star service\\nGreat place f...  1259  __label__en  \n",
       "3  BRILLIANT hotel, my #1 Chicago pick for busine...  2242  __label__en  \n",
       "4  Convenient and comfortable\\nBEST. BREAKFAST. E...   511  __label__en  "
      ]
     },
     "metadata": {},
     "output_type": "display_data"
    },
    {
     "name": "stdout",
     "output_type": "stream",
     "text": [
      "Number of samples: 201\n"
     ]
    }
   ],
   "source": [
    "ds = load_dataset(\"jniimi/tripadvisor-review-rating\")\n",
    "raw_data = pd.DataFrame(ds[\"train\"])\n",
    "\n",
    "display(raw_data.head())\n",
    "\n",
    "# Remove the System Prompt\n",
    "df = raw_data.drop(columns=[\"stay_year\", \"post_date\", \"freq\", \"lang\"])\n",
    "\n",
    "# Drop the rows with missing User Prompt\n",
    "df = df.dropna()\n",
    "\n",
    "# Drop the duplicates\n",
    "df = df.drop_duplicates()\n",
    "\n",
    "# Shuffle the data\n",
    "df = df.sample(frac=1).reset_index(drop=True)\n",
    "\n",
    "# FIXME: The dataset is not balanced\n",
    "\n",
    "# FIXME: Remove this later, sampling only 10% of the dataset while developing\n",
    "df = df.sample(frac=0.001).reset_index(drop=True)\n",
    "print(\"Number of samples:\", len(df))"
   ]
  },
  {
   "cell_type": "code",
   "execution_count": 4,
   "metadata": {},
   "outputs": [],
   "source": [
    "reviews = list(df[\"text\"])\n",
    "tokens = [word_tokenize(sentence.lower()) for sentence in reviews]"
   ]
  },
  {
   "cell_type": "code",
   "execution_count": 5,
   "metadata": {},
   "outputs": [
    {
     "name": "stdout",
     "output_type": "stream",
     "text": [
      "[['weekend', 'town', 'college', 'football', 'game', 'quick', 'sightseeing', 'jaunt', '.', 'first', 'ever', 'trip', 'philly', 'bride', 'got', 'good', 'package', 'price', 'loews', 'expedia', '.', 'besides', 'price', 'selected', 'central', 'downtown', 'close', 'historic', 'independence', 'square', 'area', 'fabulous', 'reading', 'terminal', 'market', ',', 'shopper', \"'s\", 'diner', \"'s\", 'delight', '.', 'cheap', 'easy', 'catch', 'train', 'airport', 'directly', 'market', 'east', 'station', 'across', 'street', 'hotel', '.', 'broad', 'street', 'subway', 'line', 'also', 'incredibly', 'simple', 'reach', 'lincoln', 'financial', 'field', 'sports', 'entertainment', 'district', 'game', 'day', 'events', '.', 'never', 'grab', 'cab', '.', 'could', 'easilty', 'walk', 'catch', 'transit', 'everything', 'wanted', '.', 'bonus', 'trip', 'hotel', 'built', 'historic', 'old', 'bank', 'building', 'updated', 'preserves', 'old', 'style', ',', 'vault', 'elevators', 'display', '.', 'cool', 'see', 'read', 'past', '.', 'pluses', ':', 'staff', 'friendly', 'helpful', '.', 'lounge', 'restaurant', ',', 'sole', 'food', ',', 'hopping', 'center', 'activity', '.', 'also', ',', 'spa', 'fitness', 'center', 'cut', 'standard', 'offering', '.', ',', 'loews', 'made', 'great', 'base', 'camp', 'philadelphia', 'weekend', 'visit', '.', 'would', 'recommend', 'traveler', 'seeking', 'comfort', 'value', '.'], ['staying', 'henderson', \"'s\", 'whenever', 'town', ',', 'business', 'pleasure', ',', 'past', '3', 'years', '.', 'literally', 'stayed', '25', '-', '30', 'times', 'never', 'disappointed', '.', 'minute', 'walk', 'door', 'greeted', 'raymond', 'heading', 'next', 'morning', 'feel', 'relaxed', 'home', '.', 'decor', ',', 'location', 'personnel', 'top', 'shelf', '.', 'like', 'close', 'proximity', 'numerous', 'places', 'dinner', 'drink', ',', 'within', 'short', 'scenic', 'walk', '.', 'fitness', 'like', 'run', 'place', 'fantastic', 'offers', 'scenic', 'tour', '.', 'breakfast', 'buffet', 'another', 'little', 'perk', 'adds', 'experience', '.', 'almost', \"n't\", 'want', 'send', 'fear', 'become', 'popular', 'wo', \"n't\", 'able', 'get', 'room', 'next', 'trip', ',', \"n't\", 'want', 'selfish', '.'], ['location', 'blocks', 'larimer', 'square', \"'ll\", 'find', 'many', 'great', 'bars', 'resturants', 'osteria', 'marco', 'bistro', 'vendome', 'shopping', '.', 'hotel', 'efficient', ',', 'yet', 'expensive', ',', 'valet', 'parking', '.', 'room', 'sweet', 'great', 'view', 'mountains', '.', 'outstanding', 'area', 'workout', '...', 'futness', 'center', 'hotel', 'felt', 'safe', 'running', 'alone', '(', 'female', ')', '.', 'restaurant', 'okay', '.', 'bar', 'excellent', 'never', 'packed', 'outsiders', '.', \"'ll\", 'definitely', 'stay', 'reommended', 'friends', '.'], ['stayed', 'two', 'nights', 'wife', 'kid', \"'s\", 'volleyball', 'tournament', 'felt', 'orangewood', 'suites', 'pretty', 'good', 'deal', '.', 'price', 'good', 'suites', 'kitchen', 'fridge', 'microwave', '.', 'bathroom', 'little', 'small', ',', 'meet', 'needs', '.', 'bed', 'great', 'slept', 'wonderfully', '.', 'flat', 'screen', 'tv', 'mounted', 'wall', 'swings', 'watch', 'bed', 'sofa', '.', 'place', 'right', 'across', 'streets', 'doubletree', 'little', 'hidden', ',', \"'ll\", 'feel', 'secure', '.', 'staff', 'help', 'need', '.'], ['palomar', 'four', 'nights', '...', 'ok', '...', 'people', 'nice', ',', 'location', 'right', 'dupont', 'circle', '.', 'thought', 'klimpton', 'chain', 'creating', 'upscale', 'brand', '...', 'missed', 'boat', 'several', 'important', 'points', '.', 'linens', 'substandard', 'best', '.', \"n't\", 'know', 'thread', 'count', '...', 'ummm', '...', 'maybe', '100', '?', 'bath', 'furnished', 'minimum', 'ok', 'towels', ',', 'soaps', ',', 'shampoos', 'etc', 'would', 'found', 'holiday', 'inn', 'express', '.', 'wifi', '$', '11.99', ',', 'parking', '$', '42.00', 'day', 'plus', 'tips', '.', 'come', 'boys', '!', 'room', 'service', 'menu', 'consists', 'italian', 'foods', ',', 'gathered', 'woods', '?', 'thank', 'god', 'burger', 'end', 'poorly', 'thought', 'menu', '.', \"'m\", 'interested', 'chef', \"'s\", 'pickled', 'pumpkin', '...', 'salad', '1/2', 'candied', 'pecan', '.']]\n",
      "[['[START]', 'weekend', 'town', 'college', 'football', 'game', 'quick', 'sightseeing', 'jaunt', '[END]'], ['[START]', 'first', 'ever', 'trip', 'philly', 'bride', 'got', 'good', 'package', 'price', 'loews', 'expedia', '[END]'], ['[START]', 'besides', 'price', 'selected', 'central', 'downtown', 'close', 'historic', 'independence', 'square', 'area', 'fabulous', 'reading', 'terminal', 'market', 'shopper', \"'s\", 'diner', \"'s\", 'delight', '[END]'], ['[START]', 'cheap', 'easy', 'catch', 'train', 'airport', 'directly', 'market', 'east', 'station', 'across', 'street', 'hotel', '[END]'], ['[START]', 'broad', 'street', 'subway', 'line', 'also', 'incredibly', 'simple', 'reach', 'lincoln', 'financial', 'field', 'sports', 'entertainment', 'district', 'game', 'day', 'events', '[END]']]\n"
     ]
    }
   ],
   "source": [
    "# Load stopwords\n",
    "stopwords_list = set(stopwords.words(\"english\"))  # Use set for faster lookups\n",
    "\n",
    "\n",
    "# Remove stopwords function\n",
    "def remove_stopwords(tokens):\n",
    "    return [\n",
    "        [word for word in sentence if word.lower() not in stopwords_list]\n",
    "        for sentence in tokens\n",
    "    ]\n",
    "\n",
    "\n",
    "# Punctuation removal function with sentence boundaries\n",
    "def remove_punct(words):\n",
    "    sentence = []\n",
    "    processed = []\n",
    "\n",
    "    for word in words:\n",
    "        if word in \".!?\":  # Sentence-ending punctuation\n",
    "            if sentence:  # Avoid empty sentences\n",
    "                processed.append([\"[START]\"] + sentence + [\"[END]\"])\n",
    "                sentence = []  # Reset for next sentence\n",
    "        elif word not in string.punctuation:  # Remove other punctuation\n",
    "            sentence.append(word)\n",
    "\n",
    "    if sentence:  # Edge case: last sentence without ending punctuation\n",
    "        processed.append([\"[START]\"] + sentence + [\"[END]\"])\n",
    "\n",
    "    return processed\n",
    "\n",
    "\n",
    "reviews = remove_stopwords(tokens)\n",
    "print(reviews[0:5])\n",
    "\n",
    "reviews = [remove_punct(review) for review in reviews]\n",
    "# Flatten the list of lists\n",
    "reviews = [sentence for review in reviews for sentence in review]\n",
    "# Remove empty sentences\n",
    "reviews = [sentence for sentence in reviews if sentence]  # Remove empty sentences\n",
    "print(reviews[0:5])"
   ]
  },
  {
   "cell_type": "code",
   "execution_count": 6,
   "metadata": {},
   "outputs": [
    {
     "name": "stdout",
     "output_type": "stream",
     "text": [
      "['[START]', 'weekend', 'town', 'college', 'football']\n"
     ]
    }
   ],
   "source": [
    "# Flatten review in a single list\n",
    "flattened_reviews = [word for review in reviews for word in review]\n",
    "print(flattened_reviews[0:5])"
   ]
  },
  {
   "cell_type": "markdown",
   "metadata": {},
   "source": [
    "# Word 2 Vec Implemtation from scratch with pytorch"
   ]
  },
  {
   "cell_type": "markdown",
   "metadata": {},
   "source": [
    "## Params"
   ]
  },
  {
   "cell_type": "code",
   "execution_count": 48,
   "metadata": {},
   "outputs": [],
   "source": [
    "CONTEXT_SIZE = 4  # Window size\n",
    "EMBEDDING_DIM = 256  # Dimension of word vectors\n",
    "EPOCHS = 10\n",
    "LEARNING_RATE = 0.01"
   ]
  },
  {
   "cell_type": "markdown",
   "metadata": {},
   "source": [
    "### Build Vocabulary"
   ]
  },
  {
   "cell_type": "code",
   "execution_count": 49,
   "metadata": {},
   "outputs": [
    {
     "name": "stdout",
     "output_type": "stream",
     "text": [
      "3510\n"
     ]
    }
   ],
   "source": [
    "word_counts = Counter(flattened_reviews)\n",
    "\n",
    "vocab = {word: i for i, word in enumerate(word_counts.keys())}\n",
    "rev_vocab = {i: word for word, i in vocab.items()}\n",
    "vocab_size = len(vocab)\n",
    "print(vocab_size)"
   ]
  },
  {
   "cell_type": "markdown",
   "metadata": {},
   "source": [
    "### Prepare Skip-gram Training Data"
   ]
  },
  {
   "cell_type": "markdown",
   "metadata": {},
   "source": [
    "### Define Skip-gram Model"
   ]
  },
  {
   "cell_type": "code",
   "execution_count": 50,
   "metadata": {},
   "outputs": [],
   "source": [
    "class Word2Vec(nn.Module):\n",
    "    def __init__(self, vocab_size, embedding_dim):\n",
    "        super(Word2Vec, self).__init__()\n",
    "        self.embeddings_target = nn.Embedding(vocab_size, embedding_dim)\n",
    "        # self.embeddings_context = nn.Embedding(vocab_size, embedding_dim)\n",
    "        self.out_layer = nn.Linear(embedding_dim, vocab_size)\n",
    "\n",
    "    def forward(self, target):  # 2, context):\n",
    "        embed_targ = self.embeddings_target(target)\n",
    "        # embed_ctx = self.embeddings(context)\n",
    "        # z = torch.mul(embed_targ, embed_ctx)\n",
    "        # out = self.out_layer(z)\n",
    "        out = self.out_layer(embed_targ)\n",
    "        return out"
   ]
  },
  {
   "cell_type": "markdown",
   "metadata": {},
   "source": [
    "### Train"
   ]
  },
  {
   "cell_type": "code",
   "execution_count": 51,
   "metadata": {},
   "outputs": [
    {
     "name": "stdout",
     "output_type": "stream",
     "text": [
      "Target: tensor([   0, 1056,  175,    9,   48,    9,  116, 1192,  128,  232,  193,  637,\n",
      "           9, 2827,    9,  148,  621, 1979,   89, 2829, 1163,  528,  376,    9,\n",
      "         560, 1068,    9,  154,   16,  364, 1483,    0,  916,  580,  909,  560,\n",
      "         212, 3243,    9,  105,  364, 1029,   16,    0,  532, 1814, 3246,    9,\n",
      "         340,  160, 2269, 1799,    0,  397, 2507,    0,    0,    0,  229,    0,\n",
      "           0, 1605, 1935, 2947, 2615,  831,    0, 1442,  995,    9,  166,    9,\n",
      "        3143, 1633,  249,  766,  993,    9,  257,  559, 2832,   48,    9, 2980,\n",
      "        1890, 1853,   48,  728,    0, 2842,  626, 2194,  212,   29,    0,   48,\n",
      "         853,    0,   48,  852,  365,    9, 2730,   48,    0,    9,  201,  135,\n",
      "           9, 3276,  744, 3077,  766,  140, 1743,  712,    9,  166,  404, 3440,\n",
      "        1693,   24,   67,  657, 2460,   48,    0, 1858])\n",
      "Context: tensor([[   9,  627,   24,  ...,  211,  212,    9],\n",
      "        [3060, 3059,  465,  ..., 2972,    9,    0],\n",
      "        [2685,  492,  375,  ..., 2687,    9,    0],\n",
      "        ...,\n",
      "        [ 229,  549,  341,  ...,    0, 3354,  748],\n",
      "        [   9, 1068,  560,  ...,   17, 2014, 2493],\n",
      "        [1857,  932, 1423,  ...,  462,  254, 1859]])\n"
     ]
    }
   ],
   "source": [
    "import torch\n",
    "from torch.utils.data import Dataset, DataLoader\n",
    "\n",
    "\n",
    "class Word2VecDataset(Dataset):\n",
    "    def __init__(self, flattened_reviews, vocab, context_size):\n",
    "        self.flattened_reviews = flattened_reviews\n",
    "        self.vocab = vocab\n",
    "        self.context_size = context_size\n",
    "        self.data = []\n",
    "\n",
    "        for i in range(context_size, len(flattened_reviews) - context_size):\n",
    "            target = vocab[flattened_reviews[i]]\n",
    "            context = [\n",
    "                vocab[flattened_reviews[i - j]] for j in range(1, context_size + 1)\n",
    "            ] + [vocab[flattened_reviews[i + j]] for j in range(1, context_size + 1)]\n",
    "            self.data.append((target, context))\n",
    "\n",
    "    def __len__(self):\n",
    "        return len(self.data)\n",
    "\n",
    "    def __getitem__(self, index):\n",
    "        target, context = self.data[index]\n",
    "        target_tensor = torch.tensor(target, dtype=torch.long)\n",
    "        context_tensor = torch.tensor(context, dtype=torch.long)\n",
    "        return target_tensor, context_tensor\n",
    "\n",
    "\n",
    "dataset = Word2VecDataset(flattened_reviews, vocab, CONTEXT_SIZE)\n",
    "\n",
    "dataloader = DataLoader(dataset, batch_size=128, shuffle=True)\n",
    "\n",
    "for target, context in dataloader:\n",
    "    print(\"Target:\", target)\n",
    "    print(\"Context:\", context)\n",
    "    break"
   ]
  },
  {
   "cell_type": "code",
   "execution_count": 52,
   "metadata": {},
   "outputs": [],
   "source": [
    "# flattened_reviews"
   ]
  },
  {
   "cell_type": "code",
   "execution_count": 53,
   "metadata": {},
   "outputs": [
    {
     "name": "stderr",
     "output_type": "stream",
     "text": [
      "Epoch 1: 100%|██████████| 141/141 [00:42<00:00,  3.31it/s, loss=7.65]\n"
     ]
    },
    {
     "name": "stdout",
     "output_type": "stream",
     "text": [
      "Epoch 1, Total Loss: 1100.9050\n"
     ]
    },
    {
     "name": "stderr",
     "output_type": "stream",
     "text": [
      "Epoch 2: 100%|██████████| 141/141 [00:41<00:00,  3.41it/s, loss=7.01]\n"
     ]
    },
    {
     "name": "stdout",
     "output_type": "stream",
     "text": [
      "Epoch 2, Total Loss: 998.9771\n"
     ]
    },
    {
     "name": "stderr",
     "output_type": "stream",
     "text": [
      "Epoch 3: 100%|██████████| 141/141 [00:37<00:00,  3.76it/s, loss=6.62]\n"
     ]
    },
    {
     "name": "stdout",
     "output_type": "stream",
     "text": [
      "Epoch 3, Total Loss: 924.5712\n"
     ]
    },
    {
     "name": "stderr",
     "output_type": "stream",
     "text": [
      "Epoch 4: 100%|██████████| 141/141 [00:39<00:00,  3.53it/s, loss=6.24]\n"
     ]
    },
    {
     "name": "stdout",
     "output_type": "stream",
     "text": [
      "Epoch 4, Total Loss: 872.4670\n"
     ]
    },
    {
     "name": "stderr",
     "output_type": "stream",
     "text": [
      "Epoch 5: 100%|██████████| 141/141 [00:40<00:00,  3.45it/s, loss=5.86]\n"
     ]
    },
    {
     "name": "stdout",
     "output_type": "stream",
     "text": [
      "Epoch 5, Total Loss: 835.2334\n"
     ]
    },
    {
     "name": "stderr",
     "output_type": "stream",
     "text": [
      "Epoch 6: 100%|██████████| 141/141 [00:40<00:00,  3.44it/s, loss=5.66]\n"
     ]
    },
    {
     "name": "stdout",
     "output_type": "stream",
     "text": [
      "Epoch 6, Total Loss: 807.3150\n"
     ]
    },
    {
     "name": "stderr",
     "output_type": "stream",
     "text": [
      "Epoch 7: 100%|██████████| 141/141 [00:40<00:00,  3.49it/s, loss=5.81]\n"
     ]
    },
    {
     "name": "stdout",
     "output_type": "stream",
     "text": [
      "Epoch 7, Total Loss: 785.3957\n"
     ]
    },
    {
     "name": "stderr",
     "output_type": "stream",
     "text": [
      "Epoch 8: 100%|██████████| 141/141 [00:37<00:00,  3.75it/s, loss=5.52]\n"
     ]
    },
    {
     "name": "stdout",
     "output_type": "stream",
     "text": [
      "Epoch 8, Total Loss: 767.6352\n"
     ]
    },
    {
     "name": "stderr",
     "output_type": "stream",
     "text": [
      "Epoch 9: 100%|██████████| 141/141 [00:36<00:00,  3.82it/s, loss=5.39]\n"
     ]
    },
    {
     "name": "stdout",
     "output_type": "stream",
     "text": [
      "Epoch 9, Total Loss: 753.2567\n"
     ]
    },
    {
     "name": "stderr",
     "output_type": "stream",
     "text": [
      "Epoch 10: 100%|██████████| 141/141 [00:37<00:00,  3.75it/s, loss=5.4] "
     ]
    },
    {
     "name": "stdout",
     "output_type": "stream",
     "text": [
      "Epoch 10, Total Loss: 741.2630\n"
     ]
    },
    {
     "name": "stderr",
     "output_type": "stream",
     "text": [
      "\n"
     ]
    }
   ],
   "source": [
    "from tqdm import tqdm\n",
    "\n",
    "model = Word2Vec(vocab_size, EMBEDDING_DIM).to(device)\n",
    "criterion = nn.CrossEntropyLoss()\n",
    "optimizer = optim.Adam(model.parameters(), lr=0.001)\n",
    "\n",
    "model.train()\n",
    "EPOCHS = 10\n",
    "for epoch in range(EPOCHS):\n",
    "    total_loss = 0\n",
    "    # progress_bar = tqdm(range(CONTEXT_SIZE, len(flattened_reviews) - CONTEXT_SIZE), desc=f\"Epoch {epoch + 1}\")\n",
    "    progress_bar = tqdm(dataloader, desc=f\"Epoch {epoch + 1}\")\n",
    "\n",
    "    # for i in progress_bar:\n",
    "    # target = vocab[flattened_reviews[i]]\n",
    "    #     context = [vocab[flattened_reviews[i - j]] for j in range(1, CONTEXT_SIZE + 1)] + \\\n",
    "    #               [vocab[flattened_reviews[i + j]] for j in range(1, CONTEXT_SIZE + 1)]\n",
    "\n",
    "    #     target_tensor = torch.tensor([target], dtype=torch.long, device=device)\n",
    "    #     context_tensor = torch.tensor(context, dtype=torch.long, device=device)\n",
    "\n",
    "    for target_tensor, context_tensor in progress_bar:\n",
    "        target_tensor = target_tensor.to(device)\n",
    "        context_tensor = context_tensor.to(device)\n",
    "\n",
    "        optimizer.zero_grad()\n",
    "        output = model(target_tensor)\n",
    "        loss = 0\n",
    "        # for context_word in context_tensor:\n",
    "        # loss += criterion(output, context_word.unsqueeze(0))\n",
    "        # loss += criterion(output, context_word.unsqueeze(0))\n",
    "\n",
    "        for i in range(target_tensor.size(0)):\n",
    "            for context_word in context_tensor[i]:\n",
    "                loss += criterion(output[i].unsqueeze(0), context_word.unsqueeze(0))\n",
    "        loss = loss / (target_tensor.size(0) * context_tensor.size(1))\n",
    "        loss.backward()\n",
    "        optimizer.step()\n",
    "\n",
    "        total_loss += loss.item()\n",
    "        progress_bar.set_postfix(loss=loss.item())\n",
    "\n",
    "    print(f\"Epoch {epoch + 1}, Total Loss: {total_loss:.4f}\")"
   ]
  },
  {
   "cell_type": "markdown",
   "metadata": {},
   "source": [
    "## Save the model"
   ]
  },
  {
   "cell_type": "code",
   "execution_count": 23,
   "metadata": {},
   "outputs": [
    {
     "data": {
      "text/plain": [
       "['[START]',\n",
       " 'experience',\n",
       " 'came',\n",
       " 'gaslamp',\n",
       " 'business',\n",
       " 'conference',\n",
       " 'brought',\n",
       " 'girlfriend',\n",
       " 'along',\n",
       " 'celebrate',\n",
       " 'two',\n",
       " 'year',\n",
       " 'anniversary',\n",
       " '[END]',\n",
       " '[START]',\n",
       " 'guest',\n",
       " 'services',\n",
       " 'manager',\n",
       " 'hard',\n",
       " 'rock',\n",
       " 'worked',\n",
       " 'beginning',\n",
       " 'providing',\n",
       " 'top-notch',\n",
       " 'excellent',\n",
       " 'service',\n",
       " 'likes',\n",
       " 'find',\n",
       " 'outside',\n",
       " 'vegas',\n",
       " '[END]',\n",
       " '[START]',\n",
       " 'arrived',\n",
       " 'treated',\n",
       " 'royalty',\n",
       " 'given',\n",
       " 'complimentary',\n",
       " 'drinks',\n",
       " 'set',\n",
       " 'fantastic',\n",
       " 'modern',\n",
       " 'trendy',\n",
       " 'suite',\n",
       " 'fantastic',\n",
       " 'views',\n",
       " 'gaslamp',\n",
       " 'district',\n",
       " '[END]',\n",
       " '[START]',\n",
       " 'concierge']"
      ]
     },
     "execution_count": 23,
     "metadata": {},
     "output_type": "execute_result"
    }
   ],
   "source": [
    "flattened_reviews[:50]\n",
    "# context = [vocab[flattened_reviews[i - j]] for j in range(1, CONTEXT_SIZE + 1)] + \\\n",
    "#             [vocab[flattened_reviews[i + j]] for j in range(1, CONTEXT_SIZE + 1)]\n",
    "\n",
    "# target_tensor = torch.tensor([target], dtype=torch.long, device=device)\n",
    "# context_tensor = torch.tensor(context, dtype=torch.long, device=device)"
   ]
  },
  {
   "cell_type": "code",
   "execution_count": 70,
   "metadata": {},
   "outputs": [],
   "source": [
    "# Save the model\n",
    "torch.save(model.state_dict(), \"word2vec_model.pth\")\n",
    "\n",
    "# Save the vocabulary\n",
    "with open(\"vocab.txt\", \"w\") as f:\n",
    "    for word, index in vocab.items():\n",
    "        f.write(f\"{word}\\t{index}\\n\")"
   ]
  },
  {
   "cell_type": "markdown",
   "metadata": {},
   "source": [
    "## Load the model"
   ]
  },
  {
   "cell_type": "code",
   "execution_count": 71,
   "metadata": {},
   "outputs": [
    {
     "data": {
      "text/plain": [
       "Word2Vec(\n",
       "  (embeddings_target): Embedding(3510, 256)\n",
       "  (out_layer): Linear(in_features=256, out_features=3510, bias=True)\n",
       ")"
      ]
     },
     "execution_count": 71,
     "metadata": {},
     "output_type": "execute_result"
    }
   ],
   "source": [
    "# # Load the vocabulary\n",
    "vocab = {}\n",
    "with open(\"vocab.txt\", \"r\") as f:\n",
    "    for line in f:\n",
    "        word, index = line.strip().split(\"\\t\")\n",
    "        vocab[word] = int(index)\n",
    "\n",
    "# Load the model\n",
    "model.load_state_dict(torch.load(\"word2vec_model.pth\"))\n",
    "model.eval()"
   ]
  },
  {
   "cell_type": "markdown",
   "metadata": {},
   "source": [
    "## Test the embeddings"
   ]
  },
  {
   "cell_type": "code",
   "execution_count": 72,
   "metadata": {},
   "outputs": [
    {
     "name": "stdout",
     "output_type": "stream",
     "text": [
      "The closest word to the result vector is 'ride' with a cosine distance of 0.7835\n"
     ]
    }
   ],
   "source": [
    "from scipy.spatial.distance import cosine\n",
    "\n",
    "\n",
    "# Function to get the word vector\n",
    "def get_word_vector(word):\n",
    "    if word in vocab:\n",
    "        index = vocab[word]\n",
    "        return (\n",
    "            model.embeddings_target(torch.tensor(index, device=device))\n",
    "            .detach()\n",
    "            .cpu()\n",
    "            .numpy()\n",
    "        )\n",
    "    else:\n",
    "        print(f\"Word '{word}' not found in vocabulary.\")\n",
    "        return None\n",
    "\n",
    "\n",
    "# Function to perform word arithmetic\n",
    "def word_arithmetic(word1, operator, word2):\n",
    "    vec1 = get_word_vector(word1)\n",
    "    vec2 = get_word_vector(word2)\n",
    "\n",
    "    if vec1 is not None and vec2 is not None:\n",
    "        if operator == \"+\":\n",
    "            result = vec1 + vec2\n",
    "        elif operator == \"-\":\n",
    "            result = vec1 - vec2\n",
    "        else:\n",
    "            print(f\"Unsupported operator '{operator}'. Use '+' or '-'.\")\n",
    "            return None\n",
    "        return result\n",
    "    else:\n",
    "        return None\n",
    "\n",
    "\n",
    "# Function to test operations\n",
    "def test_operations(test):\n",
    "    results = []\n",
    "    for i in range(0, len(test) - 2, 3):\n",
    "        word1, operator, word2 = test[i], test[i + 1], test[i + 2]\n",
    "        result_vector = word_arithmetic(word1, operator, word2)\n",
    "        if result_vector is not None:\n",
    "            results.append((result_vector, {word1, word2}))\n",
    "        else:\n",
    "            print(f\"Could not perform operation on '{word1} {operator} {word2}'.\")\n",
    "    return results\n",
    "\n",
    "\n",
    "# Function to find the closest word\n",
    "def find_closest_word(vector, excluded_words):\n",
    "    closest_word = None\n",
    "    closest_distance = float(\"inf\")\n",
    "\n",
    "    for word, index in vocab.items():\n",
    "        if word not in excluded_words:\n",
    "            word_vector = (\n",
    "                model.embeddings_target(torch.tensor(index, device=device))\n",
    "                .detach()\n",
    "                .cpu()\n",
    "                .numpy()\n",
    "            )\n",
    "            distance = cosine(vector, word_vector)\n",
    "            if distance < closest_distance:\n",
    "                closest_distance = distance\n",
    "                closest_word = word\n",
    "\n",
    "    return closest_word, closest_distance\n",
    "\n",
    "\n",
    "# Test the operations\n",
    "test = [\"cheap\", \"+\", \"bad\"]\n",
    "results = test_operations(test)\n",
    "# results = [get_word_vector(\"cheap\")]\n",
    "# Find the closest word for each result\n",
    "for result_vector, excluded_words in results:\n",
    "    closest_word, closest_distance = find_closest_word(result_vector, excluded_words)\n",
    "    print(\n",
    "        f\"The closest word to the result vector is '{closest_word}' with a cosine distance of {closest_distance:.4f}\"\n",
    "    )"
   ]
  },
  {
   "cell_type": "code",
   "execution_count": null,
   "metadata": {},
   "outputs": [
    {
     "data": {
      "image/png": "[encoded data removed]",
      "text/plain": [
       "<Figure size 1200x1200 with 1 Axes>"
      ]
     },
     "metadata": {},
     "output_type": "display_data"
    }
   ],
   "source": [
    "import matplotlib.pyplot as plt\n",
    "\n",
    "from sklearn.manifold import TSNE\n",
    "import seaborn as sns\n",
    "\n",
    "\n",
    "def visualize_words_embedding(model, epoch_number):\n",
    "    words_to_visualize = [k for k in vocab.keys()]\n",
    "    words_to_visualize = words_to_visualize[:50]\n",
    "\n",
    "    word_vectors = model.embeddings_target.weight.data\n",
    "\n",
    "    indices = [vocab[word] for word in words_to_visualize]\n",
    "    word_vectors = model.embeddings_target.weight.data[indices]\n",
    "\n",
    "    tsne = TSNE(n_components=2, perplexity=30)\n",
    "    word_vectors_2d = tsne.fit_transform(word_vectors.cpu())\n",
    "\n",
    "    colors = sns.husl_palette(n_colors=len(words_to_visualize))\n",
    "\n",
    "    plt.figure(figsize=(12, 12))\n",
    "\n",
    "    for i, word in enumerate(words_to_visualize):\n",
    "        plt.scatter(word_vectors_2d[:, 0], word_vectors_2d[:, 1], c=colors)\n",
    "        plt.annotate(word, xy=(word_vectors_2d[i, 0], word_vectors_2d[i, 1]))\n",
    "\n",
    "    plt.title(f\"Pickle Rick Word Embeddings Visualization - {epoch_number}\")\n",
    "\n",
    "    plt.savefig(f\"word_embeddings_epoch_{epoch_number}.png\")\n",
    "\n",
    "\n",
    "visualize_words_embedding(model, epoch_number=10)"
   ]
  },
  {
   "cell_type": "code",
   "execution_count": null,
   "metadata": {},
   "outputs": [
    {
     "name": "stdout",
     "output_type": "stream",
     "text": [
      "{'[START]': 0, 'weekend': 1, 'town': 2, 'college': 3, 'football': 4, 'game': 5, 'quick': 6, 'sightseeing': 7, 'jaunt': 8, '[END]': 9, 'first': 10, 'ever': 11, 'trip': 12, 'philly': 13, 'bride': 14, 'got': 15, 'good': 16, 'package': 17, 'price': 18, 'loews': 19, 'expedia': 20, 'besides': 21, 'selected': 22, 'central': 23, 'downtown': 24, 'close': 25, 'historic': 26, 'independence': 27, 'square': 28, 'area': 29, 'fabulous': 30, 'reading': 31, 'terminal': 32, 'market': 33, 'shopper': 34, \"'s\": 35, 'diner': 36, 'delight': 37, 'cheap': 38, 'easy': 39, 'catch': 40, 'train': 41, 'airport': 42, 'directly': 43, 'east': 44, 'station': 45, 'across': 46, 'street': 47, 'hotel': 48, 'broad': 49, 'subway': 50, 'line': 51, 'also': 52, 'incredibly': 53, 'simple': 54, 'reach': 55, 'lincoln': 56, 'financial': 57, 'field': 58, 'sports': 59, 'entertainment': 60, 'district': 61, 'day': 62, 'events': 63, 'never': 64, 'grab': 65, 'cab': 66, 'could': 67, 'easilty': 68, 'walk': 69, 'transit': 70, 'everything': 71, 'wanted': 72, 'bonus': 73, 'built': 74, 'old': 75, 'bank': 76, 'building': 77, 'updated': 78, 'preserves': 79, 'style': 80, 'vault': 81, 'elevators': 82, 'display': 83, 'cool': 84, 'see': 85, 'read': 86, 'past': 87, 'pluses': 88, 'staff': 89, 'friendly': 90, 'helpful': 91, 'lounge': 92, 'restaurant': 93, 'sole': 94, 'food': 95, 'hopping': 96, 'center': 97, 'activity': 98, 'spa': 99, 'fitness': 100, 'cut': 101, 'standard': 102, 'offering': 103, 'made': 104, 'great': 105, 'base': 106, 'camp': 107, 'philadelphia': 108, 'visit': 109, 'would': 110, 'recommend': 111, 'traveler': 112, 'seeking': 113, 'comfort': 114, 'value': 115, 'staying': 116, 'henderson': 117, 'whenever': 118, 'business': 119, 'pleasure': 120, '3': 121, 'years': 122, 'literally': 123, 'stayed': 124, '25': 125, '30': 126, 'times': 127, 'disappointed': 128, 'minute': 129, 'door': 130, 'greeted': 131, 'raymond': 132, 'heading': 133, 'next': 134, 'morning': 135, 'feel': 136, 'relaxed': 137, 'home': 138, 'decor': 139, 'location': 140, 'personnel': 141, 'top': 142, 'shelf': 143, 'like': 144, 'proximity': 145, 'numerous': 146, 'places': 147, 'dinner': 148, 'drink': 149, 'within': 150, 'short': 151, 'scenic': 152, 'run': 153, 'place': 154, 'fantastic': 155, 'offers': 156, 'tour': 157, 'breakfast': 158, 'buffet': 159, 'another': 160, 'little': 161, 'perk': 162, 'adds': 163, 'experience': 164, 'almost': 165, \"n't\": 166, 'want': 167, 'send': 168, 'fear': 169, 'become': 170, 'popular': 171, 'wo': 172, 'able': 173, 'get': 174, 'room': 175, 'selfish': 176, 'blocks': 177, 'larimer': 178, \"'ll\": 179, 'find': 180, 'many': 181, 'bars': 182, 'resturants': 183, 'osteria': 184, 'marco': 185, 'bistro': 186, 'vendome': 187, 'shopping': 188, 'efficient': 189, 'yet': 190, 'expensive': 191, 'valet': 192, 'parking': 193, 'sweet': 194, 'view': 195, 'mountains': 196, 'outstanding': 197, 'workout': 198, '...': 199, 'futness': 200, 'felt': 201, 'safe': 202, 'running': 203, 'alone': 204, 'female': 205, 'okay': 206, 'bar': 207, 'excellent': 208, 'packed': 209, 'outsiders': 210, 'definitely': 211, 'stay': 212, 'reommended': 213, 'friends': 214, 'two': 215, 'nights': 216, 'wife': 217, 'kid': 218, 'volleyball': 219, 'tournament': 220, 'orangewood': 221, 'suites': 222, 'pretty': 223, 'deal': 224, 'kitchen': 225, 'fridge': 226, 'microwave': 227, 'bathroom': 228, 'small': 229, 'meet': 230, 'needs': 231, 'bed': 232, 'slept': 233, 'wonderfully': 234, 'flat': 235, 'screen': 236, 'tv': 237, 'mounted': 238, 'wall': 239, 'swings': 240, 'watch': 241, 'sofa': 242, 'right': 243, 'streets': 244, 'doubletree': 245, 'hidden': 246, 'secure': 247, 'help': 248, 'need': 249, 'palomar': 250, 'four': 251, 'ok': 252, 'people': 253, 'nice': 254, 'dupont': 255, 'circle': 256, 'thought': 257, 'klimpton': 258, 'chain': 259, 'creating': 260, 'upscale': 261, 'brand': 262, 'missed': 263, 'boat': 264, 'several': 265, 'important': 266, 'points': 267, 'linens': 268, 'substandard': 269, 'best': 270, 'know': 271, 'thread': 272, 'count': 273, 'ummm': 274, 'maybe': 275, '100': 276, 'bath': 277, 'furnished': 278, 'minimum': 279, 'towels': 280, 'soaps': 281, 'shampoos': 282, 'etc': 283, 'found': 284, 'holiday': 285, 'inn': 286, 'express': 287, 'wifi': 288, '11.99': 289, '42.00': 290, 'plus': 291, 'tips': 292, 'come': 293, 'boys': 294, 'service': 295, 'menu': 296, 'consists': 297, 'italian': 298, 'foods': 299, 'gathered': 300, 'woods': 301, 'thank': 302, 'god': 303, 'burger': 304, 'end': 305, 'poorly': 306, \"'m\": 307, 'interested': 308, 'chef': 309, 'pickled': 310, 'pumpkin': 311, 'salad': 312, '1/2': 313, 'candied': 314, 'pecan': 315, 'enjoy': 316, 'comfortable': 317, 'surroundings': 318, 'perks': 319, 'included': 320, 'consider': 321, 'giving': 322, 'try': 323, 'located': 324, 'midst': 325, 'number': 326, 'facilities': 327, 'extra': 328, 'reasonable': 329, 'asked': 330, 'higher': 331, 'floor': 332, 'enjoyed': 333, 'offered': 334, 'manager': 335, 'reception': 336, 'evenings': 337, 'enjoyable': 338, 'bartender': 339, 'accommodating': 340, 'wonderful': 341, 'delicious': 342, 'cooked': 343, 'order': 344, 'items': 345, 'takes': 346, 'pride': 347, 'job': 348, 'obvious': 349, 'general': 350, 'entire': 351, 'better': 352, 'though': 353, 'pleasant': 354, 'away': 355, 'complimentary': 356, 'shuttle': 357, 'luxury': 358, 'ride': 359, 'driver': 360, 'coming': 361, 'back': 362, 'quitting': 363, 'time': 364, 'pick': 365, 'us': 366, 'special': 367, 'since': 368, 'westin': 369, 'galleria': 370, 'comparing': 371, 'embassy': 372, 'easily': 373, 'winner': 374, 'big': 375, 'rooms': 376, 'even': 377, 'bigger': 378, 'bathrooms': 379, 'timesquare': 380, 'views': 381, 'level': 382, 'floors': 383, 'husband': 384, 'three': 385, 'kids': 386, 'rbi': 387, 'resort': 388, 'much': 389, 'nicer': 390, 'loved': 391, 'world': 392, 'mediterranean': 393, 'make': 394, 'sure': 395, 'sign': 396, '``': 397, 'rule': 398, \"''\": 399, 'summer': 400, 'program': 401, 'eat': 402, 'free': 403, 'long': 404, 'smoothies': 405, 'snow': 406, 'cones': 407, 'pool': 408, '29': 409, 'per': 410, 'child': 411, 'large': 412, 'clean': 413, \"s'mores\": 414, 'snores': 415, 'actually': 416, 'put': 417, 'pup': 418, 'tents': 419, 'spent': 420, 'night': 421, 'texas': 422, 'houston': 423, 'taxi': 424, 'midtown': 425, 'montrose': 426, 'ambience': 427, 'design': 428, 'vibe': 429, 'super-friendly': 430, 'low': 431, '200s': 432, 'highly': 433, 'valencia': 434, 'least': 435, 'twice': 436, 'year': 437, 'goes': 438, 'california': 439, 'sixth': 440, 'seventh': 441, 'consistent': 442, 'virtually': 443, 'identical': 444, 'available': 445, 'well': 446, 'laid': 447, 'spacious': 448, 'beds': 449, 'particularly': 450, 'fourth': 451, 'balconies': 452, 'overlooking': 453, 'courtyard': 454, 'welcoming': 455, 'absolutely': 456, 'amazing': 457, 'every': 458, 'one': 459, 'complaint': 460, 'noisy': 461, 'lot': 462, 'party': 463, 'choose': 464, 'convenient': 465, 'restaurants': 466, 'shops': 467, 'forget': 468, 'others': 469, 'virtue': 470, 'fact': 471, 'santana': 472, 'row': 473, 'new': 474, \"'in\": 475, 'spot': 476, 'silicon': 477, 'valley': 478, 'life': 479, 'major': 480, 'attraction': 481, 'becoming': 482, 'gradually': 483, 'issue': 484, 'sometimes': 485, 'son': 486, '19': 487, 'generally': 488, 'money': 489, 'depending': 490, 'beautiful': 491, 'gym': 492, 'constantly': 493, 'improving': 494, 'selection': 495, 'equipment': 496, 'tried': 497, 'whole': 498, 'provided': 499, 'looking': 500, 'quiet': 501, 'hesitation': 502, 'recommending': 503, 'memphis-': 504, 'peabody': 505, 'course': 506, 'grand': 507, 'kept': 508, 'calling': 509, 'school': 510, 'linen': 511, 'cocktail': 512, 'napkins': 513, 'crystal': 514, 'glasses': 515, 'sumptuous': 516, 'bedding': 517, 'lots': 518, 'fluffy': 519, 'coffee': 520, 'instead': 521, 'computers': 522, 'duck': 523, 'parade': 524, 'babies': 525, 'love': 526, 'walked': 527, 'presented': 528, 'arrived': 529, 'york': 530, 'straight': 531, 'check': 532, 'lady': 533, 'behind': 534, 'desk': 535, 'said': 536, 'hour': 537, 'ready': 538, 'went': 539, 'thing': 540, 'smell': 541, 'cigarette': 542, 'smoke': 543, 'skinny': 544, 'white': 545, 'assumed': 546, 'house': 547, 'keepers': 548, 'something': 549, 'non': 550, 'smoking': 551, 'bad': 552, 'size': 553, 'cold': 554, 'water': 555, 'work': 556, 'mins': 557, 'black': 558, 'use': 559, 'park': 560, '2': 561, 'visited': 562, 'nyc': 563, 'february': 564, '2012': 565, 'boyfriend': 566, 'refreshing': 567, 'exhausting': 568, 'plane': 569, 'journey': 570, 'latest': 571, 'mod-cons': 572, 'alarm': 573, 'ipod': 574, 'docking': 575, 'internet': 576, 'hairdryer': 577, 'unable': 578, 'arrival': 579, 'called': 580, 'tol': 581, 'engineer': 582, 'soon': 583, 'possible': 584, '60': 585, 'seconds': 586, 'making': 587, 'call': 588, 'assist': 589, 'demonstrates': 590, 'customer': 591, 'recieve': 592, 'continental': 593, 'vast': 594, 'array': 595, 'cerials': 596, 'bagels': 597, 'muffins': 598, 'fruit': 599, 'struggled': 600, 'anywhere': 601, 'sit': 602, 'although': 603, 'roof-top': 604, 'open': 605, 'march': 606, 'pop': 607, 'looked': 608, 'fantasic': 609, 'empire': 610, 'state': 611, 'ad': 612, 'imagine': 613, 'terrace': 614, 'lovely': 615, 'relax': 616, 'location-': 617, 'faulted': 618, 'opposite': 619, 'macy': 620, 'block': 621, 'accessible': 622, 'foot': 623, 'taking': 624, 'tha': 625, '10': 626, 'minutes': 627, 'ffatiron': 628, 'madison': 629, 'garden': 630, 'walking': 631, 'distance': 632, 'city': 633, 'sleeps-': 634, 'sleep': 635, 'soundly': 636, 'anyone': 637, 'wants': 638, 'boston': 639, 'harbor': 640, 'children': 641, 'picked': 642, 'perfect': 643, 'key': 644, 'steps': 645, 'science': 646, 'museum': 647, 'aquarium': 648, 'quincy': 649, 'outdoor': 650, 'dining': 651, 'options': 652, 'kid-friendly': 653, 'plenty': 654, 'flower': 655, 'arrangements': 656, 'lobby': 657, \"'re\": 658, 'member': 659, 'personable': 660, 'attention': 661, 'detail': 662, 'impressive': 663, 'candy': 664, 'bowls': 665, 'elevator': 666, 'extras': 667, 'in-room': 668, 'family': 669, '6': 670, 'ideal': 671, 'conferences': 672, 'air': 673, 'crew': 674, 'independent': 675, 'tourist': 676, 'visiting': 677, 'smaller': 678, 'nearer': 679, 'edge': 680, 'review': 681, 'mentions': 682, 'lack': 683, 'hair': 684, 'conditioner': 685, 'shower': 686, 'gel': 687, 'maid': 688, 'essential': 689, '4/5': 690, 'star': 691, 'recently': 692, 'returned': 693, 'chicago': 694, 'baby': 695, 'couple': 696, 'quite': 697, 'negative': 698, 'front': 699, 'including': 700, 'managers': 701, 'took': 702, 'requested': 703, 'confirmed': 704, 'prior': 705, 'accommodate': 706, 'nothing': 707, 'eventually': 708, 'persisted': 709, 'gave': 710, 'half': 711, 'concierge': 712, 'reservation': 713, 'brunch': 714, '4': 715, 'adults': 716, 'strollers': 717, 'fit': 718, 'appointment': 719, 'personal': 720, 'bloomingdales': 721, 'save': 722, 'filled': 723, 'forms': 724, 'advance': 725, 'direct': 726, 'advised': 727, 'received': 728, 'applications': 729, 'moments': 730, 'pulled': 731, 'together': 732, 'requests': 733, 'complaining': 734, 'disappointments': 735, 'compensate': 736, 'return': 737, 'housekeeping': 738, 'notices': 739, 'grounds': 740, 'ask': 741, 'fantatsic': 742, '........': 743, 'hotels': 744, 'extremely': 745, 'ducks': 746, 'must-see': 747, 'knew': 748, 'brilliant': 749, 'ten': 750, 'beale': 751, '20mins': 752, 'sun': 753, 'studio': 754, 'french': 755, 'cuisine': 756, 'sunday': 757, 'evening': 758, 'ate': 759, 'shame': 760, \"'d\": 761, 'suppose': 762, \"'ve\": 763, 'gotten': 764, 'used': 765, 'bit': 766, 'edgier': 767, 'contemporary': 768, 'fairfax': 769, 'dated': 770, 'rate': 771, 'heard': 772, 'paid': 773, '500': 774, 'double': 775, 'relieved': 776, 'booked': 777, 'online': 778, 'spending': 779, 'alleyway': 780, 'person': 781, 'heated': 782, 'cooled': 783, 'hvac': 784, 'unit': 785, 'closet': 786, 'makes': 787, 'things': 788, 'second': 789, 'reservations': 790, 'last': 791, 'look': 792, 'massachusetts': 793, 'say': 794, 'probably': 795, 'newer': 796, 'dc': 797, 'insist': 798, 'faces': 799, 'ave.': 800, 'mother': 801, 'suite': 802, '7th': 803, 'average': 804, 'budget': 805, 'sunlight': 806, 'dana': 807, 'priceline': 808, 'none': 809, 'access': 810, 'go': 811, 'michigan': 812, 'ave': 813, 'millennium': 814, 'intelligentsia': 815, 'nicely': 816, 'side': 817, 'comfy': 818, 'rain': 819, 'ceiling': 820, 'windows': 821, 'attendants': 822, 'ca': 823, 'wait': 824, 'back-hope': 825, 'moms': 826, 'girls': 827, 'way': 828, 'modern': 829, 'rather': 830, '--': 831, '-2': 832, 'ample': 833, 'space': 834, 'anytime': 835, 'radio': 836, 'saxs': 837, '5th': 838, 'avenue': 839, 'american': 840, 'girl': 841, 'rennovated': 842, 'upgraded': 843, 'types': 844, 'appreciated': 845, 'results': 846, 'kingsize': 847, 'increased': 848, 'improved': 849, 'ammenities': 850, 'trips': 851, 'san': 852, 'antonio': 853, 'wounderful': 854, 'beverage': 855, 'wake-up': 856, 'recent': 857, 'upgrades': 858, 'pillow': 859, 'mattresses': 860, 'added': 861, 'guest': 862, 'reasonably': 863, 'priced': 864, 'highways': 865, 'stores': 866, 'parts': 867, 'continue': 868, 'professionally': 869, 'maintained': 870, 'remains': 871, 'security': 872, 'cameras': 873, 'installed': 874, 'glendale': 875, 'portions': 876, 'enough': 877, 'split': 878, 'accomodating': 879, 'fun': 880, 'getaway': 881, 'glad': 882, 'decision': 883, 'waldorf': 884, 'nicest': 885, 'believe': 886, 'ones': 887, 'deluxe': 888, 'really': 889, 'problem': 890, 'pictures': 891, 'showed': 892, 'table': 893, 'chairs': 894, 'sitting': 895, 'informed': 896, 'completely': 897, 'sold': 898, 'change': 899, 'compensated': 900, 'treat': 901, 'huge': 902, 'tub': 903, 'mirrors': 904, 'build': 905, 'inside': 906, 'properties': 907, 'around': 908, 'reviews': 909, 'tripadvisor': 910, 'honest': 911, 'approached': 912, 'nervous': 913, 'everyone': 914, 'says': 915, 'standards': 916, 'enormous': 917, 'beautifully': 918, 'fitted': 919, 'plentiful': 920, 'marks': 921, 'friendlier': 922, 'plug': 923, 'working': 924, 'fixed': 925, 'promptly': 926, 'dvd': 927, 'compensation': 928, 'hosted': 929, 'wine': 930, 'addition': 931, 'stop': 932, 'interlopers': 933, 'non-residents': 934, 'crashed': 935, 'artist': 936, 'caricature': 937, 'drawings': 938, 'touch': 939, 'quibble': 940, 'car': 941, 'walls': 942, 'thin': 943, 'martinique': 944, 'overall': 945, 'broadway': 946, 'main': 947, 'attractions': 948, 'macey': 949, 'madission': 950, 'gardens': 951, 'ny': 952, 'busy': 953, 'airline': 954, 'manic': 955, 'crews': 956, 'seem': 957, 'occupy': 958, 'always': 959, 'luggage': 960, 'taxis': 961, 'advice': 962, 'upgrade': 963, 'club': 964, 'means': 965, 'luxurious': 966, 'ticked': 967, 'boxes': 968, 'needed': 969, 'complaints': 970, 'problems': 971, 'wireless': 972, 'unrealiable': 973, 'francisco': 974, 'check-in': 975, 'ahead': 976, 'due': 977, 'advisor': 978, 'clerk': 979, 'indicated': 980, 'full': 981, 'capacity': 982, '3pm': 983, 'bags': 984, \"'just\": 985, 'high': 986, 'immediately': 987, 'however': 988, '20/day': 989, 'tax': 990, \"'better\": 991, 'agreed': 992, 'take': 993, 'tired': 994, 'flight': 995, 'coast': 996, 'satisfactory': 997, 'appeared': 998, 'middle': 999, 'renovation': 1000, 'newly': 1001, 'tiled': 1002, 'carpets': 1003, 'original': 1004, '1920': 1005, 'baseboards': 1006, 'scuffed': 1007, 'dirty': 1008, 'settled': 1009, 'awakened': 1010, '5:45a.m': 1011, 'clanking': 1012, 'cups': 1013, 'pouring': 1014, 'buckets': 1015, 'outside': 1016, 'sleeping': 1017, '.....': 1018, 'oh': 1019, 'bring': 1020, 'toiletries': 1021, 'shared': 1022, 'tiny': 1023, 'bottle': 1024, 'shampoo': 1025, 'days': 1026, 'third': 1027, 'replentish': 1028, 'someone': 1029, 'five': 1030, 'knock': 1031, 'older': 1032, 'man': 1033, 'stood': 1034, 'barged': 1035, 'proceeded': 1036, 'brush': 1037, \"'see\": 1038, 'himselft': 1039, 'soap': 1040, 'left': 1041, 'came': 1042, 'sack': 1043, 'shoved': 1044, \"'will\": 1045, 'wow': 1046, 'happened': 1047, 'wish': 1048, 'marriott': 1049, 'executive': 1050, 'privileges': 1051, 'tipped': 1052, 'everyday': 1053, 'generously': 1054, 'bright': 1055, 'union': 1056, 'property': 1057, 'cleaning': 1058, 'employees': 1059, 'learn': 1060, 'guests': 1061, 'chancellor': 1062, 'boutique': 1063, 'cartwright': 1064, 'drake': 1065, 'offer': 1066, 'write': 1067, 'hyatt': 1068, 'regency': 1069, 'warmly': 1070, 'attendant': 1071, 'request': 1072, '2:45am': 1073, 'brought': 1074, 'javier': 1075, 'name': 1076, 'answered': 1077, 'telephone': 1078, 'profesional': 1079, 'anything': 1080, 'else': 1081, 'buy': 1082, 'coke': 1083, 'pepsi': 1084, 'product': 1085, 'along': 1086, 'requested.employees': 1087, 'encourage': 1088, 'leisure': 1089, 'card': 1090, 'invited': 1091, 'email': 1092, 'personally': 1093, 'plan': 1094, 'option': 1095, 'seemed': 1096, 'fairly': 1097, 'thumbs': 1098, 'mangers': 1099, 'drinks': 1100, 'snacks': 1101, '530-700': 1102, 'omelets': 1103, 'waffles': 1104, 'hottub': 1105, 'going': 1106, 'columbus': 1107, 'soccer': 1108, '15': 1109, 'entrance': 1110, '670': 1111, 'interstate': 1112, 'convienent': 1113, 'recommended': 1114, 'site': 1115, 'loads': 1116, 'advise': 1117, 'smiling': 1118, 'cheerful': 1119, 'grateful': 1120, 'care': 1121, 'mobile': 1122, 'phone': 1123, 'arranged': 1124, 'bought': 1125, 'planning': 1126, 'layover': 1127, 'la': 1128, 'lax': 1129, 'expect': 1130, 'separate': 1131, 'occasions/': 1132, 'members': 1133, 'assistance': 1134, 'met': 1135, 'dismissive': 1136, 'attitude': 1137, 'mid': 1138, 'conversation': 1139, 'apology': 1140, 'particular': 1141, 'didnt': 1142, 'placed': 1143, 'phones': 1144, 'coupled': 1145, 'hairs': 1146, 'ends': 1147, 'round': 1148, 'ensure': 1149, 'usually': 1150, 'comedy': 1151, 'chris': 1152, 'kattan': 1153, 'tab': 1154, 'purchased': 1155, 'tix': 1156, 'ayce': 1157, 'crab': 1158, 'leg': 1159, 'prime': 1160, 'rib': 1161, 'king': 1162, 'pillows': 1163, 'strands': 1164, 'bottom': 1165, 'otherwise': 1166, 'a/c': 1167, 'quit': 1168, 'sometime': 1169, 'notice': 1170, 'fire': 1171, '545am': 1172, 'finally': 1173, 'shut': 1174, 'lost': 1175, 'power': 1176, 'consisted': 1177, 'basic': 1178, 'continenal': 1179, 'normally': 1180, 'bacon': 1181, 'sausage': 1182, 'eggs': 1183, 'fruits': 1184, 'potatoes': 1185, 'omlete': 1186, 'set': 1187, '20': 1188, 'min': 1189, 'serving': 1190, 'checked': 1191, 'wasnt': 1192, 'electrical': 1193, 'inconveinence': 1194, 'mention': 1195, '90': 1196, 'degrees': 1197, '10am': 1198, 'tell': 1199, 'patient': 1200, 'sort': 1201, 'issues': 1202, 'alright': 1203, 'told': 1204, 'waiting': 1205, '45': 1206, 'various': 1207, 'excuses': 1208, 'start': 1209, 'noticed': 1210, 'greasy': 1211, 'hand': 1212, 'prints': 1213, 'furniture': 1214, 'hot': 1215, 'sink': 1216, 'compounded': 1217, 'concerns': 1218, 'management': 1219, 'voicemail': 1220, 'weeks': 1221, 'ago': 1222, 'subsequent': 1223, 'started': 1224, 'usa': 1225, 'milners': 1226, 'chose': 1227, 'common': 1228, 'inner': 1229, 'ok.': 1230, 'sea': 1231, 'beat': 1232, 'class': 1233, 'aspect': 1234, 'sized': 1235, 'part': 1236, 'truly': 1237, 'proposed': 1238, 'girlfriend': 1239, 'mentioned': 1240, 'jeffery': 1241, 'behrens': 1242, 'lead': 1243, 'discreet': 1244, 'note': 1245, 'wished': 1246, 'chilled': 1247, 'champagne': 1248, 'popped': 1249, 'celebrate': 1250, 'head': 1251, 'rooftop': 1252, 'ink48': 1253, 'june': 1254, 'sorry': 1255, 'remembered': 1256, '....': 1257, 'regret': 1258, 'choice': 1259, 'experienced': 1260, 'complete': 1261, 'wheelchair': 1262, 'user': 1263, 'lining': 1264, '1221': 1265, 'interest': 1266, 'queue': 1267, 'jumped': 1268, 'lol': 1269, 'lindys': 1270, 'deli': 1271, 'trap': 1272, 'prices': 1273, 'thats': 1274, 'fine': 1275, 'intentions': 1276, 'using': 1277, 'anyway': 1278, 'yes': 1279, 'cant': 1280, 'peoples': 1281, 'outdated': 1282, 'functional': 1283, 'opinion': 1284, 'gives': 1285, 'character': 1286, 'letting': 1287, 'late': 1288, 'complained': 1289, 'sorted': 1290, 'seven': 1291, 'total': 1292, 'opera': 1293, 'immensely': 1294, 'handy': 1295, 'no5': 1296, 'bus': 1297, 'f': 1298, 'tram': 1299, 'hall': 1300, 'hayes': 1301, 'hundred': 1302, 'yards': 1303, 'especially': 1304, 'betty': 1305, 'teabags': 1306, 'cup': 1307, 'tea': 1308, 'welcome': 1309, 'certainly': 1310, 'bestwestern': 1311, 'roundhouse': 1312, 'spotless': 1313, 'serve': 1314, 'cookies': 1315, 'afternoon': 1316, 'equipped': 1317, 'maker': 1318, 'refrigerator': 1319, 'televisions': 1320, 'hospitals': 1321, 'downside': 1322, 'near': 1323, 'immediate': 1324, 'renovated': 1325, 'paint': 1326, 'flaking': 1327, 'paying': 1328, '5': 1329, 'wedding': 1330, 'blues': 1331, 'crowd': 1332, 'weekends': 1333, 'interesting': 1334, 'reminded': 1335, 'films': 1336, 'fifties': 1337, 'today': 1338, 'conference': 1339, 'pre-booking': 1340, 'event': 1341, 'explanation': 1342, 'forthcoming': 1343, 'allocated': 1344, 'high-rise': 1345, 'facing': 1346, 'highway': 1347, 'adjoining': 1348, 'funneling': 1349, 'road': 1350, 'noise': 1351, 'word': 1352, 'confusing': 1353, 'navigate': 1354, 'queues': 1355, 'island': 1356, 'rental': 1357, 'point': 1358, 'impressed': 1359, 'elisha': 1360, 'refurbished': 1361, 'aug': 1362, 'opportunity': 1363, 'week': 1364, 'seaport': 1365, 'cape': 1366, 'cod': 1367, 'eastern': 1368, 'shore': 1369, 'doormen': 1370, 'wonderfull': 1371, 'tamo': 1372, 'bar/rest': 1373, 'shop': 1374, 'professional': 1375, 'super': 1376, 'gorgeous': 1377, 'flowers': 1378, 'indoor': 1379, 'ocean': 1380, 'bedrooms': 1381, 'seafood': 1382, 'nightlife': 1383, 'e.g': 1384, 'freedom': 1385, 'trail': 1386, 'bus/submay': 1387, 'harpoon': 1388, 'brewery': 1389, 'priority': 1390, 'valentine': 1391, 'morris': 1392, 'us-': 1393, 'chocolates': 1394, 'bottles': 1395, 'spring': 1396, 'robes': 1397, 'bathoom': 1398, 'blazing': 1399, 'fireplaces': 1400, 'invite': 1401, 'warmth': 1402, 'relaxation': 1403, 'topped': 1404, 'walkable': 1405, 'sites': 1406, 'represented': 1407, 'beware': 1408, 'mess': 1409, '’': 1410, 'aware': 1411, 'decided': 1412, 'leave': 1413, 'ended': 1414, 'getting': 1415, '“': 1416, '”': 1417, 'centrally': 1418, 'nearby': 1419, 'experiences': 1420, 'helped': 1421, 'vacation': 1422, 'metro': 1423, 'must': 1424, 'staffbwerebmuch': 1425, 'consistency': 1426, 'showers': 1427, '17,000': 1428, 'acre': 1429, 'reserve': 1430, 'hiking': 1431, 'pools': 1432, 'tubs': 1433, 'pm': 1434, '10:30.': 1435, 'might': 1436, 'relaxing': 1437, 'execellent': 1438, 'freindly': 1439, 'folk': 1440, 'thier': 1441, 'spend': 1442, 'superior': 1443, 'mac': 1444, 'connected': 1445, 'barely': 1446, 'downstairs': 1447, 'moved': 1448, 'stars': 1449, 'situation': 1450, 'ability': 1451, 'text': 1452, 'usual': 1453, 'amenities': 1454, 'hgi': 1455, 'lacked': 1456, 'quality': 1457, 'frozen': 1458, 'tasteless': 1459, 'kind': 1460, 'hampton': 1461, 'homewood': 1462, 'may': 1463, 'case': 1464, 'guessing': 1465, 'share': 1466, 'high-quality': 1467, 'lower': 1468, 'multi-day': 1469, 'real': 1470, 'sevice': 1471, 'except': 1472, 'messed': 1473, 'caused': 1474, '~15min': 1475, 'ground': 1476, 'zero': 1477, 'convenience': 1478, 'shows': 1479, 'virgil': 1480, 'bbq': 1481, 'starbucks': 1482, 'totally': 1483, 'un-false-feeling': 1484, 'overheard': 1485, 'registration-desk': 1486, 'guy': 1487, 'enlightening': 1488, 'qualified': 1489, 'diplomat': 1490, 'manhattan': 1491, 'cost': 1492, 'arm': 1493, 'construction': 1494, 'occurring': 1495, 'hear': 1496, 'snob': 1497, 'sense': 1498, 'rated': 1499, 'bargain': 1500, 'excels': 1501, 'attending': 1502, 'interior': 1503, 'aging': 1504, 'wi': 1505, 'tickets': 1506, 'cubs': 1507, 'majestic': 1508, 'wrigley': 1509, 'residential': 1510, 'neighborhood': 1511, 'offerings': 1512, 'allowed': 1513, 'early': 1514, '7:30': 1515, 'a.m.': 1516, 'charge': 1517, 'later': 1518, '6/bottle': 1519, 'check-out': 1520, 'declining': 1521, 'explore': 1522, 'deck': 1523, 'balcony': 1524, 'previous': 1525, 'reviewers': 1526, 'talk': 1527, 'hard': 1528, 'remember': 1529, 'remote': 1530, 'control': 1531, 'hardness/softness': 1532, 'controlled': 1533, 'separately': 1534, 'slow': 1535, 'true': 1536, 'throughout': 1537, 'liked': 1538, 'give': 1539, 'shout-out': 1540, 'kylee': 1541, 'revere': 1542, 'future': 1543, 'visits': 1544, 'expecting': 1545, 'finish': 1546, 'ordering': 1547, 'chicken': 1548, 'wing': 1549, 'supper': 1550, 'monetary': 1551, 'token': 1552, 'sent': 1553, 'police': 1554, 'officer': 1555, 'annoyed': 1556, 'stating': 1557, 'directing': 1558, 'tourists': 1559, 'disappointment': 1560, 'renaissance': 1561, 'harborplace': 1562, 'condition': 1563, 'mall': 1564, 'shopping/getting': 1565, '30/day': 1566, 'eeek': 1567, 'blue': 1568, 'ribbon': 1569, 'favorite': 1570, 'restourant': 1571, 'air-condition': 1572, 'system': 1573, 'typical': 1574, 'kitchenette': 1575, 'heavily': 1576, 'trafficked': 1577, 'cooking': 1578, 'foreign': 1579, 'odors': 1580, 'waft': 1581, 'thru': 1582, 'sound-proofed': 1583, 'superb': 1584, 'village': 1585, 'uss': 1586, 'midway': 1587, 'norton': 1588, 'plaza': 1589, 'flawless': 1590, 'timely': 1591, 'breakfasts': 1592, 'beyond': 1593, 'expectation': 1594, 'variety': 1595, 'comes': 1596, 'kiosk': 1597, 'dealt': 1598, 'sought': 1599, 'thoroughly': 1600, 'riverwalk': 1601, 'terribly': 1602, 'inconvenient': 1603, 'smokers': 1604, 'areas': 1605, 'scarce': 1606, 'fortunately': 1607, 'opened': 1608, 'infront': 1609, 'bridge': 1610, 'irish': 1611, 'pub': 1612, 'stocked': 1613, 'mini-bar': 1614, \"'iffy\": 1615, 'layout': 1616, 'somewhat': 1617, 'resteraunts': 1618, 'alamo': 1619, 'chance': 1620, 'posh': 1621, 'fab': 1622, 'fishermans': 1623, '20-30': 1624, 'wyndham': 1625, 'everytime': 1626, 'fly': 1627, 'indianapolis': 1628, 'warm': 1629, 'th': 1630, 'thermostat': 1631, 'unresponsive': 1632, 'harborside': 1633, '1': 1634, 'rose': 1635, 'kennedy': 1636, 'greenway': 1637, 'ferries': 1638, 'islands': 1639, 'undergoing': 1640, 'printer': 1641, 'visitor': 1642, 'compact': 1643, 'exposed': 1644, 'brick': 1645, 'new-appearing': 1646, 'furnishings': 1647, 'gray': 1648, 'tile': 1649, 'shortcomings': 1650, 'limited': 1651, 'magnifying': 1652, 'shave/makeup': 1653, 'mirror': 1654, 'marquis': 1655, 'best.close': 1656, 'theater': 1657, 'centralized': 1658, 'task.the': 1659, 'pricey': 1660, 'locations': 1661, 'sarges': 1662, '34th': 1663, 'pay': 1664, '29/day': 1665, 'irritating': 1666, '12.95': 1667, '24': 1668, 'hours': 1669, 'courteous': 1670, 'faced': 1671, 'tree': 1672, 'fyi': 1673, 'le': 1674, 'frite': 1675, 'rosario': 1676, 'foccacia': 1677, 'azuca': 1678, 'villita': 1679, 'christmas': 1680, 'lights': 1681, 'river': 1682, 'music': 1683, 'everywhere': 1684, 'heavy': 1685, 'traffic': 1686, 'platinum': 1687, 'marriot': 1688, 'cardholder': 1689, 'attentive': 1690, 'remodeling': 1691, 'buget': 1692, 'remodeled': 1693, 'guess': 1694, 'extent': 1695, 'carpet': 1696, 'fixtures': 1697, 'armoire': 1698, 'stands': 1699, 'drawers': 1700, 'actual': 1701, 'storage': 1702, 'poster': 1703, 'step': 1704, 'climb': 1705, 'plush': 1706, 'mattress': 1707, 'squeaked': 1708, 'hubby': 1709, 'awake': 1710, '30s': 1711, 'practical': 1712, 'pedestal': 1713, 'sin': 1714, 'glass': 1715, 'hairbrush': 1716, 'toothbrush': 1717, 'less': 1718, 'make-up': 1719, 'bag': 1720, 'unique': 1721, 'stall': 1722, 'deep': 1723, 'bathtub': 1724, 'grout': 1725, 'stained': 1726, 'unappealing': 1727, 'stuff': 1728, 'traveling': 1729, 'toll': 1730, 'peek': 1731, 'corner': 1732, 'cleaned': 1733, 'known': 1734, 'hotwire': 1735, 'type': 1736, 'stuck': 1737, 'touristy': 1738, 'sd': 1739, 'action': 1740, '16th': 1741, 'mass': 1742, 'somehow': 1743, 'surprise': 1744, 'anticipating': 1745, 'longer': 1746, 'impeccable': 1747, 'zaza': 1748, 'services': 1749, 'commendable': 1750, 'far': 1751, 'concerned': 1752, 'remain': 1753, 'honestly': 1754, 'provide': 1755, 'awesome': 1756, 'bellman': 1757, 'accommodations': 1758, 'already': 1759, 'travel': 1760, 'fair': 1761, 'amount': 1762, 'loyal': 1763, 'hilton': 1764, 'honors': 1765, 'includes': 1766, 'nasty': 1767, 'words': 1768, 'hotelier': 1769, 'likes': 1770, 'bug': 1771, 'headed': 1772, 'surprised': 1773, 'strong': 1774, 'chemical': 1775, 'dissipate': 1776, 'meetings': 1777, 'pjs': 1778, 'flipped': 1779, 'turned': 1780, 'healthy': 1781, '5mm': 1782, 'picture': 1783, 'inspect': 1784, 'suspicious': 1785, 'insect': 1786, 'upon': 1787, 'checking': 1788, 'despite': 1789, 'claims': 1790, 'initially': 1791, 'assigned': 1792, 'sprayed': 1793, 'bugs': 1794, 'straw': 1795, 'previously': 1796, 'somewhere': 1797, 'worry': 1798, 'w': 1799, '35th': 1800, 'january': 1801, 'fiance': 1802, 'tacking': 1803, 'adjustable': 1804, 'think': 1805, 'poor': 1806, 'without': 1807, 'technical': 1808, 'essentially': 1809, 'compartments': 1810, 'result': 1811, 'crater': 1812, 'assured': 1813, 'maintenance': 1814, 'teach': 1815, 'discovered': 1816, 'deflated': 1817, 'chambers': 1818, '10pm': 1819, 'repeat': 1820, 'happens': 1821, 'happen': 1822, 'lay': 1823, 'stylished': 1824, 'advices': 1825, 'everybody': 1826, 'mission': 1827, 'facility': 1828, 'sits': 1829, 'heart': 1830, 'diego': 1831, 'spectacular': 1832, 'breathtaking': 1833, 'sporting': 1834, '28-29': 1835, '2012.': 1836, 'manchester': 1837, 'admit': 1838, 'thrilled': 1839, 'vehicle': 1840, 'overnight': 1841, 'congratulate': 1842, 'maintaining': 1843, 'midnight': 1844, 'lura': 1845, 'done': 1846, 'apologized': 1847, 'mistake': 1848, 'happy': 1849, 'handling': 1850, 'omelet': 1851, 'obviously': 1852, 'trained': 1853, 'national': 1854, 'capitol': 1855, 'stops': 1856, 'zoo': 1857, 'woodley': 1858, 'cafes': 1859, 'oudoor': 1860, 'seating': 1861, 'garage': 1862, 'tight': 1863, 'proven': 1864, 'managed': 1865, 'shoehorn': 1866, 'suburban': 1867, 'scratch': 1868, 'metered': 1869, '8:30am': 1870, 'pizza': 1871, 'delivery': 1872, 'chinese': 1873, 'beer': 1874, 'reviewer': 1875, 'stated': 1876, 'railroad': 1877, 'tracks': 1878, 'confirm': 1879, 'lucky': 1880, 'steer': 1881, 'clear': 1882, 'froyo': 1883, 'truck': 1884, 'yuck': 1885, 'different': 1886, 'printers': 1887, 'print': 1888, 'boarding': 1889, 'passes': 1890, 'log': 1891, 'planes': 1892, 'soundproof': 1893, 'sound': 1894, 'proof': 1895, 'odd': 1896, 'standing': 1897, 'window': 1898, 'realized': 1899, 'clearly': 1900, 'trying': 1901, 'sept': 1902, '12': 1903, 'simply': 1904, 'wardrobe': 1905, 'tidier': 1906, 'store': 1907, 'suitcases': 1908, 'traditional': 1909, 'cared': 1910, 'atmosphere': 1911, 'trams': 1912, 'harrington': 1913, 'knowing': 1914, 'amenitites': 1915, 'federal': 1916, 'triangle': 1917, 'positives': 1918, 'needing': 1919, 'borderline': 1920, 'dilapidated': 1921, 'levels': 1922, 'smelling': 1923, 'fried': 1924, '9th': 1925, 'stains': 1926, 'suspicion': 1927, 'blankets': 1928, 'blond': 1929, 'curly': 1930, 'dark': 1931, 'sheets': 1932, 'blanket': 1933, 'spare': 1934, 'moment': 1935, 'ac': 1936, 'fell': 1937, 'high-mid': 1938, '50s': 1939, 'stuffy': 1940, 'leaving': 1941, 'needless': 1942, 'fast': 1943, 'book': 1944, 'fan': 1945, 'kimpton': 1946, 'wherever': 1947, 'whether': 1948, 'friendliness': 1949, 'mom': 1950, 'pop-owned': 1951, 'b': 1952, 'exception': 1953, 'nestled': 1954, 'goodies': 1955, 'intouch': 1956, 'terrific': 1957, 'loyalty': 1958, 'wi-fi': 1959, 'among': 1960, 'comic': 1961, 'slipped': 1962, 'nyt': 1963, 'jokingly': 1964, 'suggested': 1965, 'replace': 1966, 'archie': 1967, 'digest': 1968, 'spanking': 1969, 'seems': 1970, 'quirky': 1971, 'chic': 1972, 'kimptons': 1973, 'favor': 1974, 'sub-brand': 1975, 'art': 1976, 'motion': 1977, 'shown': 1978, 'pieces': 1979, 'bronze': 1980, 'statuettes': 1981, 'climbing': 1982, 'starwood': 1983, 'ways': 1984, 'receive': 1985, 'humor': 1986, 'washington': 1987, 'wardman': 1988, 'held': 1989, 'helping': 1990, 'eateries': 1991, 'cute': 1992, 'upbeat': 1993, 'surprisingly': 1994, 'crowded': 1995, 'still': 1996, 'position': 1997, 'quieter': 1998, 'restaraunts': 1999, 'spots': 2000, 'soho': 2001, 'highline': 2002, 'chelsea': 2003, 'looks': 2004, 'affect': 2005, 'convention': 2006, 'fresh': 2007, 'lemon/lime': 2008, 'cucumber/mint': 2009, 'groups': 2010, 'conventioneers': 2011, 'schedule': 2012, 'assume': 2013, 'minimal': 2014, '21st': 2015, 'worried': 2016, 'whatsoever': 2017, 'airplanes': 2018, 'flew': 2019, 'eye': 2020, 'either': 2021, 'peaceful': 2022, 'falling': 2023, 'asleep': 2024, 'curtains': 2025, 'glow': 2026, 'pressure': 2027, 'wash': 2028, 'cozy': 2029, 'fashion': 2030, 'quickly': 2031, 'departure': 2032, 'spared': 2033, 'exhorbitant': 2034, 'fees': 2035, 'noted': 2036, 'bakery': 2037, 'advantage': 2038, 'jose': 2039, 'lunch': 2040, 'activities': 2041, 'light': 2042, 'rail': 2043, 'renting': 2044, '4:30': 2045, '18': 2046, 'fare': 2047, 'cheaper': 2048, 'annual': 2049, 'unusual': 2050, 'model-quality': 2051, 'hosts': 2052, 'greet': 2053, 'accompany': 2054, 'eco-friendly': 2055, 'aspects': 2056, 'high-tech': 2057, 'sleek': 2058, 'inviting': 2059, 'challenge': 2060, 'involved': 2061, 'seeing': 2062, 'play': 2063, 'marriage': 2064, 'whoop': 2065, 'show': 2066, 'umbrellas': 2067, 'magically': 2068, '–': 2069, 'friend': 2070, 'delightful': 2071, 'married': 2072, 'genuine': 2073, 'first-rate': 2074, 'difference': 2075, 'good-looking': 2076, 'andaz': 2077, 'top-notch': 2078, 'pleasantness': 2079, 'smart': 2080, 'relatives': 2081, 'aaa': 2082, 'south': 2083, 'stations': 2084, 'waiters': 2085, 'minibar': 2086, 'mostly': 2087, 'minibars': 2088, 'purchase': 2089, 'select': 2090, 'renovations': 2091, 'nearing': 2092, 'completion': 2093, 'sounds': 2094, 'smells': 2095, 'sound-proofing': 2096, 'club/executive': 2097, 'cruise': 2098, 'marina': 2099, 'maritime': 2100, 'acapulco': 2101, 'mexican': 2102, 'pedro': 2103, 'fuel': 2104, 'drugstores': 2105, 'beach': 2106, 'desire': 2107, 'venture': 2108, 'acceptable': 2109, 'albeit': 2110, 'perhaps': 2111, 'complementary': 2112, 'coffe/': 2113, 'bottled': 2114, 'generous': 2115, 'classy': 2116, 'multi': 2117, 'roller': 2118, 'coasters': 2119, 'driving': 2120, 'hill': 2121, 'par': 2122, 'launching': 2123, 'pad': 2124, 'mind': 2125, 'fisherman': 2126, 'wharf': 2127, 'ferry': 2128, '......': 2129, 'dollars': 2130, 'flash': 2131, 'similar': 2132, 'certain': 2133, 'shady': 2134, 'girlie': 2135, 'freeway': 2136, 'exceptionally': 2137, 'consistently': 2138, 'exercise': 2139, 'biking': 2140, 'natural': 2141, 'history': 2142, 'attached': 2143, 'served': 2144, 'daughters': 2145, 'hollywood': 2146, 'complimented': 2147, 'trouble': 2148, 'pleasurable': 2149, 'tastefully': 2150, 'blvd': 2151, 'decent': 2152, 'biggest': 2153, 'conditioning': 2154, 'villa': 2155, 'florence': 2156, 'counter': 2157, 'and/or': 2158, 'tea/coffee': 2159, 'swingers': 2160, 'furthermore': 2161, 'tick': 2162, 'grove/farmers': 2163, 'hesitate': 2164, 'beverly': 2165, 'laurel': 2166, 'motor': 2167, 'paramount': 2168, 'king-sized': 2169, 'marvelous': 2170, 'specials': 2171, 'bedroom': 2172, '.it': 2173, '.we': 2174, '.i': 2175, 'web': 2176, '.the': 2177, '.workout': 2178, '.there': 2179, 'doorman': 2180, 'bell': 2181, 'aka': 2182, '.this': 2183, 'disappoint': 2184, 'improvement': 2185, 'hallways': 2186, 'wood': 2187, 'boost': 2188, 'expanded': 2189, 'underpass': 2190, 'lighting': 2191, 'unsafe': 2192, 'memphis': 2193, 'month': 2194, 'treats': 2195, 'pier': 2196, 'drop': 2197, 'skip': 2198, 'shoes': 2199, 'playing': 2200, 'chess': 2201, 'backgammon': 2202, 'appreciate': 2203, 'knocking': 2204, 'she/he': 2205, 'tend': 2206, 'starter': 2207, 'thus': 2208, 'keep': 2209, 'basics': 2210, 'clothing': 2211, 'bench': 2212, 'sat': 2213, 'smelled': 2214, 'rotten': 2215, 'afraid': 2216, 'teeth': 2217, 'wary': 2218, 'switches': 2219, 'figure': 2220, 'slammed': 2221, 'doors': 2222, 'yelled': 2223, 'ran': 2224, 'hallway': 2225, 'universal': 2226, 'device': 2227, 'charger': 2228, 'week-long': 2229, 'pleased': 2230, 'queen': 2231, '12th': 2232, 'accustomed': 2233, 'small-space': 2234, 'living': 2235, 'live': 2236, 'apartment': 2237, 'seattle': 2238, 'relative': 2239, 'ridiculously-large': 2240, 'cuddlers': 2241, 'prefer': 2242, 'awww': 2243, 'shutup': 2244, 'based': 2245, 'queen-sized': 2246, 'full-size': 2247, 'cover': 2248, 'whatever': 2249, 'rough': 2250, 'sides': 2251, 'dim': 2252, 'overhead': 2253, 'covered': 2254, 'heavy-duty': 2255, 'shutters': 2256, 'cave': 2257, 'works': 2258, 'flawlessly': 2259, 'provides': 2260, 'electronic': 2261, 'outlets': 2262, 'seen': 2263, 'bulk': 2264, 'connect': 2265, 'devices': 2266, 'medium': 2267, 'flatscreen': 2268, 'happily': 2269, 'channels': 2270, 'hbo': 2271, 'showtime': 2272, 'coat': 2273, 'rack': 2274, 'chair': 2275, 'slots': 2276, 'closed': 2277, 'rainfall': 2278, 'toilet': 2279, 'toilets': 2280, 'separates': 2281, 'private': 2282, 'mean': 2283, 'preferred': 2284, 'metal': 2285, 'pocket': 2286, 'diets': 2287, 'bodily': 2288, 'functions': 2289, 'buffer': 2290, 'zone': 2291, 'subtract': 2292, 'willing': 2293, 'experiment': 2294, 'closeness': 2295, 'regular': 2296, 'snafu': 2297, 'somebody': 2298, 'correct': 2299, 'temporary': 2300, 'computer': 2301, 'glitch': 2302, 'pause': 2303, 'ipads': 2304, 'last-minute': 2305, 'surfing': 2306, 'directional': 2307, 'planned': 2308, 'historical': 2309, 'vicinity': 2310, 'mos': 2311, 'residence': 2312, 'disappointed.the': 2313, 'quiet.even': 2314, 'hike': 2315, 'trolley': 2316, 'drivers': 2317, 'impression': 2318, 'michael': 2319, 'chat': 2320, '5am': 2321, 'handled': 2322, 'quaintness': 2323, 'bother': 2324, 'directions': 2325, 'graceland': 2326, 'normal': 2327, 'intense': 2328, 'waking': 2329, 'mountain': 2330, 'present': 2331, 'overbearing': 2332, 'temperature': 2333, '71': 2334, 'unpack': 2335, 'appointed': 2336, 'info': 2337, 'finding': 2338, 'gift': 2339, 'etc.': 2340, 'expected': 2341, 'amenity': 2342, 'notch': 2343, 'apple': 2344, 'fitzpatrick': 2345, 'max': 2346, '6-8': 2347, 'relationship': 2348, 'owners': 2349, 'portland': 2350, 'lucia': 2351, 'moving': 2352, '2008': 2353, 'frustratingly': 2354, 'board': 2355, 'strangely': 2356, 'shaped': 2357, 'unfortunate': 2358, 'constant': 2359, 'buzzing': 2360, 'vibration': 2361, 'sleepless': 2362, 'learned': 2363, 'mayflower': 2364, 'andra': 2365, 'meeting': 2366, 'unhappy': 2367, 'regardless': 2368, 'folks': 2369, 'answer': 2370, 'reply': 2371, 'often': 2372, '821': 2373, 'make-over': 2374, 'unfortunately': 2375, 'loud': 2376, 'exhaust': 2377, 'vent': 2378, 'nuisance': 2379, 'dropped': 2380, 'afterwards': 2381, 'freezing': 2382, 'leaks': 2383, 'breeze': 2384, 'carpeting': 2385, 'tattered': 2386, 'edges': 2387, 'source': 2388, 'window-mounted': 2389, 'heater/ac': 2390, 'generated': 2391, 'heat': 2392, 'lamps': 2393, 'operate': 2394, 'saw': 2395, 'unplugged': 2396, 'plugged': 2397, 'lamp': 2398, 'bulb': 2399, 'cord': 2400, 'visible': 2401, 'feet': 2402, 'wide': 2403, 'hang': 2404, 'clothes': 2405, 'angle': 2406, 'converted': 2407, 'contained': 2408, 'airplane': 2409, 'seat': 2410, 'frustration': 2411, 'worked': 2412, 'selections': 2413, 'aforementioned': 2414, 'memory': 2415, 'loss': 2416, 'frustrating': 2417, 'fix': 2418, 'telling': 2419, 'worth': 2420, 'aggravation': 2421, 'anymore': 2422, 'hope': 2423, 'customers': 2424, 'stays': 2425, 'mine': 2426, 'supposed': 2427, 'scent': 2428, 'bathtub/shower': 2429, 'bay': 2430, 'tracking': 2431, 'curtain': 2432, 'lowered': 2433, 'privacy': 2434, 'continential': 2435, 'varied': 2436, 'competitive': 2437, 'conveniently': 2438, 'feature': 2439, 'flying': 2440, '1130': 2441, 'worry-free': 2442, 'truth': 2443, 'occasion.i': 2444, 'wanting': 2445, 'occupied': 2446, 'minor': 2447, 'remedied': 2448, 'human': 2449, 'interactions': 2450, 'exactly': 2451, 'transpired': 2452, 'element': 2453, 'failing': 2454, 'story': 2455, 'meanwhile': 2456, '1230am': 2457, 'alas': 2458, 'forced': 2459, '5-10': 2460, 'keys': 2461, '100am': 2462, 'understated': 2463, 'positive': 2464, 'utilized': 2465, 'local': 2466, 'caught': 2467, 'evacuated': 2468, '3am': 2469, 'birthday': 2470, 'thanksgiving': 2471, 'menger': 2472, 'ages': 2473, '70.': 2474, 'memorable': 2475, 'ambiance': 2476, 'sight': 2477, 'memories': 2478, 'omni': 2479, 'museums': 2480, 'marble': 2481, 'reserved': 2482, 'newsletters': 2483, '10/day': 2484, 'president': 2485, 'pros': 2486, 'memorial/whitehouse': 2487, 'georgetown': 2488, 'arlington/pentagon': 2489, 'square/smithsonian': 2490, 'tavern': 2491, 'awaken': 2492, 'increase': 2493, 'daily': 2494, 'cons': 2495, 'thinking': 2496, 'serviced': 2497, 'restocked': 2498, 'bed/provided': 2499, 'strange': 2500, 'unless': 2501, 'elsewhere': 2502, 'basically': 2503, 'splurge': 2504, '150': 2505, 'congested': 2506, 'break': 2507, 'sxsw': 2508, 'till': 2509, 'fully': 2510, 'suprisingly': 2511, 'partying': 2512, 'exterior': 2513, 'terrible': 2514, 'cracking': 2515, 'stain': 2516, 'bedsheets': 2517, 'polite': 2518, 'workers': 2519, 'picky': 2520, 'hoteler': 2521, '..': 2522, 'bucks': 2523, 'purpose': 2524, 'connection': 2525, 'charm': 2526, 'elegant': 2527, 'chandelier': 2528, 'piano': 2529, 'glamorous': 2530, 'carved': 2531, 'intriguing': 2532, 'artwork': 2533, 'slightly': 2534, 'adequate': 2535, 'couples': 2536, 'fino': 2537, 'sears': 2538, 'aged': 2539, '8.': 2540, 'daughter': 2541, '8': 2542, 'cake': 2543, 'following': 2544, 'splendid': 2545, 'sofitel': 2546, 'angel': 2547, 'ici': 2548, 'indeed': 2549, 'pancakes': 2550, 'crepes': 2551, 'tasty': 2552, 'smoothie': 2553, 'shots': 2554, 'occation': 2555, 'accomodate': 2556, 'unforgettable': 2557, 'stroll': 2558, 'charged': 2559, 'item': 2560, 'uses': 2561, 'ipad': 2562, 'cells': 2563, 'laptop': 2564, 'charges': 2565, 'proud': 2566, 'rewards': 2567, 'skills': 2568, '.......': 2569, 'rush': 2570, 'navy': 2571, 'millenium': 2572, 'suitable': 2573, 'families': 2574, 'utensils': 2575, 'plates': 2576, 'takeout': 2577, 'intend': 2578, '7': 2579, 'eventi': 2580, 'skyline': 2581, 'kinda': 2582, 'sqaure': 2583, 'multiple': 2584, 'suppplies': 2585, 'freak': 2586, 'leak': 2587, 'lasted': 2588, 'meant': 2589, 'mini': 2590, 'required': 2591, 'accurate': 2592, 'lockable': 2593, 'tempted': 2594, 'choosen': 2595, 'wrong': 2596, 'delighted': 2597, 'edward': 2598, 'reasons': 2599, 'dallas': 2600, 'staffed': 2601, 'cheapest': 2602, 'teeniest': 2603, 'towers': 2604, 'thrown': 2605, 'paintwork': 2606, 'tad': 2607, 'fault': 2608, 'cleanliness': 2609, 'amazingly': 2610, 'comfy-': 2611, 'latex': 2612, 'topper-': 2613, 'faultless': 2614, 'date': 2615, 'clean-': 2616, 'great-': 2617, 'prodcuts': 2618, 'cereal': 2619, 'public': 2620, 'adjacent': 2621, 'complain': 2622, 'centre': 2623, 'univ': 2624, 'upper': 2625, 'arrange': 2626, 'reasonably-priced': 2627, 'to/from': 2628, 'seatac': 2629, 'vancouver': 2630, 'victoria': 2631, 'worst': 2632, 'uncomfortable': 2633, 'funky': 2634, 'needle': 2635, 'extremembly': 2636, 'resturant': 2637, 'century': 2638, 'locates': 2639, 'varieties': 2640, 'fox': 2641, 'drive': 2642, 'fish': 2643, 'successfully': 2644, 'booking': 2645, 'wrote': 2646, 'moore': 2647, 'theatre': 2648, 'concert': 2649, 'annoyance': 2650, 'inquiring': 2651, 'schedules': 2652, 'p.s': 2653, 'spouse': 2654, 'frequent': 2655, 'described': 2656, 'weak': 2657, 'flow': 2658, 'worse': 2659, 'meal': 2660, 'bed/living': 2661, 'sights': 2662, 'alot': 2663, 'regarding': 2664, 'researching': 2665, 'contrary': 2666, 'photos': 2667, 'misleading': 2668, '4th': 2669, '2nd': 2670, 'stairs': 2671, 'domingo': 2672, 't.': 2673, 'martinez': 2674, 'junior': 2675, 'employee': 2676, 'mornings': 2677, 'putting': 2678, 'to-go': 2679, 'box': 2680, 'talking': 2681, 'brightens': 2682, 'lifetime': 2683, 'mile': 2684, 'steam': 2685, 'cafe': 2686, 'classes': 2687, 'repeating': 2688, 'entered': 2689, 'ostentatious': 2690, 'elsewere': 2691, 'immaculate': 2692, 'vists': 2693, 'single': 2694, 'siren': 2695, 'peace': 2696, 'chateau': 2697, 'europe': 2698, 'arriving': 2699, 'depart': 2700, '5:30': 2701, '6.': 2702, 'stank': 2703, 'non-smoking': 2704, 'yelling': 2705, 'upstairs': 2706, 'walkway': 2707, 'woke': 2708, '51': 2709, '14': 2710, 'headache': 2711, 'tripped': 2712, 'saying': 2713, 'confirmation': 2714, 'shortly': 2715, 'inbox': 2716, 'spam': 2717, 'worrying': 2718, 'credit': 2719, 'talked': 2720, 'company': 2721, 'period': 2722, '320': 2723, 'dollar': 2724, 'department': 2725, 'accountant': 2726, 'resolved': 2727, 'voicemails': 2728, 'kindly': 2729, 'explain': 2730, 'explained': 2731, 'robbed': 2732, 'disputing': 2733, 'refuse': 2734, 'n': 2735, 'excuse': 2736, 'nickel': 2737, 'dime': 2738, 'ihg': 2739, 'powerful': 2740, '4pm': 2741, 'waitress': 2742, 'cameroon': 2743, 'settle': 2744, \"l'enfant\": 2745, 'link': 2746, 'lines': 2747, 'humidity': 2748, 'unbearable': 2749, 'doorstep': 2750, 'mcd': 2751, 'supermarket': 2752, 'stock': 2753, 'supplies': 2754, 'monument': 2755, 'deserted': 2756, '5.30pm': 2757, 'si': 2758, 'conditioned': 2759, 'illinois': 2760, 'weather': 2761, 'exploring': 2762, 'mentioning': 2763, 'dishes': 2764, 'concierges': 2765, 'hearing': 2766, 'pump': 2767, 'obnoxious': 2768, 'formal': 2769, 'wear': 2770, 'apparently': 2771, 'steep': 2772, 'already-used': 2773, 'paper': 2774, 'roll': 2775, 'motel': 2776, 'changes': 2777, 'chex': 2778, 'mix': 2779, 'subpar': 2780, 'teh': 2781, 'sheraton': 2782, 'hiloton': 2783, '53': 2784, 'equal': 2785, 'thisone': 2786, 'sightsee': 2787, 'sinks': 2788, 'roomy': 2789, 'forceful': 2790, 'pot': 2791, 'direction': 2792, 'drawback': 2793, 'safter': 2794, 'springs': 2795, 'foam': 2796, 'matress': 2797, 'flavor': 2798, 'golf': 2799, 'waterfall': 2800, 'tops': 2801, 'extending': 2802, 'easier': 2803, 'uphill': 2804, 'incline': 2805, '4pm-10pm': 2806, 'wiith': 2807, 'spg': 2808, 'dd': 2809, 'woman': 2810, 'quoted': 2811, '269/nght': 2812, '279/night': 2813, 'couldnt': 2814, 'confirmaton': 2815, 'listed': 2816, 'ordeal': 2817, 'ignoring': 2818, 'states': 2819, 'thankfully': 2820, 'pretended': 2821, 'information': 2822, 'wont': 2823, 'gone': 2824, 'smoothly': 2825, 'finished': 2826, 'waiter': 2827, 'understand': 2828, 'taken': 2829, 'unorganization': 2830, 'vanity': 2831, 'commercial': 2832, 'flush': 2833, 'lever': 2834, 'stick': 2835, 'restuarants': 2836, '10th': 2837, 'theres': 2838, 'lives': 2839, 'micro': 2840, 'organized': 2841, 'reason': 2842, 'passing': 2843, 'occasion': 2844, 'sorrento': 2845, 'patterned': 2846, 'italy': 2847, 'waliking': 2848, 'fireplace': 2849, 'comforters': 2850, 'carrera': 2851, 'player': 2852, 'singer': 2853, 'airconditioning': 2854, 'please': 2855, 'authorise': 2856, '100/day': 2857, 'kerri': 2858, 'rest': 2859, 'team': 2860, 'excellant': 2861, 'florida': 2862, 'centers': 2863, 'cabs': 2864, 'thanks': 2865, 'extremly': 2866, 'register': 2867, 'gentleman': 2868, 'waited': 2869, 'questions': 2870, 'handed': 2871, 'map': 2872, 'c': 2873, 'e': 2874, '42nd': 2875, '.times': 2876, 'rockafeller': 2877, 'united': 2878, 'nation': 2879, '1.5': 2880, 'miles': 2881, 'lounge/bar': 2882, 'resturaunt': 2883, 'cabins': 2884, 'rooming': 2885, 'kindle': 2886, 'reclines': 2887, 'separated': 2888, 'curtin': 2889, 'pull': 2890, 'toilet/shower': 2891, 'agree': 2892, 'body': 2893, 'wash/shampoo': 2894, 'calls': 2895, 'skim': 2896, 'milk': 2897, 'blueberry': 2898, 'chocolate': 2899, 'chips': 2900, 'corn': 2901, 'cranberry-orange': 2902, 'bannana-walnut': 2903, 'moist': 2904, 'galley': 2905, 'offeres': 2906, 'latte': 2907, 'mocha': 2908, 'ice/water': 2909, 'borrowing': 2910, 'lids': 2911, '2.00': 2912, 'crowne': 2913, 'destination': 2914, 'responsive': 2915, 'expansive': 2916, '9/1/12': 2917, 'tues': 2918, '9/4/12': 2919, 'gold': 2920, 'onsite': 2921, 'retrieval': 2922, 'hoped': 2923, 'waived': 2924, 'honor': 2925, 'membership': 2926, 'account': 2927, 'foul': 2928, 'encountered': 2929, 'rating': 2930, 'yea': 2931, 'alamo/riverwalk': 2932, 'affordable': 2933, '21': 2934, 'sa': 2935, 'shares': 2936, 'fairfield': 2937, 'entrances': 2938, 'therefore': 2939, 'compromises': 2940, 'dresser': 2941, 'biggie': 2942, 'sofa/sitting': 2943, 'arranging': 2944, 'defeats': 2945, 'springhills': 2946, 'roomier': 2947, 'description': 2948, 'exceptional': 2949, 'visitors': 2950, 'anniversary': 2951, 'let': 2952, 'ease': 2953, 'charging': 2954, 'strip': 2955, 'listen': 2956, 'ihome': 2957, 'truffle': 2958, 'popcorn': 2959, 'cap': 2960, 'punch': 2961, 'drunk': 2962, 'wich': 2963, '2pm': 2964, 'congress': 2965, 'library': 2966, 'ronald': 2967, 'reagan': 2968, 'exit': 2969, 'harsh': 2970, 'worries': 2971, 'chinatown': 2972, 'coin': 2973, 'laundry': 2974, 'deco': 2975, '80s': 2976, 'makeover': 2977, 'stopover': 2978, 'exress': 2979, 'venues': 2980, 'pricing': 2981, 'cleared': 2982, 'move': 2983, 'social': 2984, 'expectations': 2985, 'traveled': 2986, 'bicycles': 2987, 'rode': 2988, 'bikes': 2989, 'rock': 2990, 'creek': 2991, 'parkway': 2992, 'returning': 2993, '-without': 2994, 'yeah': 2995, 'office': 2996, 'storm': 2997, 'hit': 2998, 'perfectly': 2999, '3.5': 3000, 'turn': 3001, 'waters': 3002, '9': 3003, 'fridays': 3004, 'saturdays': 3005, 'courtesy': 3006, 'operates': 3007, 'radius': 3008, 'serves': 3009, 'basis': 3010, 'favorites': 3011, 'valet/door': 3012, 'james': 3013, 'signature': 3014, 'ice': 3015, 'bucket': 3016, 'premium': 3017, 'products': 3018, 'distrikt': 3019, 'manhatten': 3020, 'st.': 3021, 'liquor': 3022, 'joint': 3023, 'carry': 3024, 'flag': 3025, 'smile': 3026, 'anthony': 3027, 'skyclub': 3028, '29th': 3029, 'razors': 3030, 'definately': 3031, 'arrive': 3032, 'discover': 3033, 'overbooked': 3034, 'tantrum': 3035, 'appropriate': 3036, 'necessary': 3037, 'factual': 3038, 'report': 3039, 'occurred': 3040, 'sarah': 3041, 'secured': 3042, 'transportation': 3043, 'inconvenienced': 3044, 'phoenix': 3045, 'i-25': 3046, 'colorado': 3047, 'bld': 3048, 'lqs': 3049, 'twins': 3050, 'fitting': 3051, 'stretch': 3052, 'exaggeration': 3053, '2.5': 3054, 'cherry': 3055, 'lq': 3056, '92': 3057, '+tax': 3058, 'cable': 3059, 'cars': 3060, 'unspectacular': 3061, 'incredible': 3062, 'greenwich': 3063, 'george': 3064, '9/11': 3065, 'memorial': 3066, 'hop': 3067, 'on/hop': 3068, \"'high\": 3069, 'bar/restaurant': 3070, 'basement': 3071, 'gas': 3072, 'casual': 3073, 'canada': 3074, 'pro': 3075, 'i.e.': 3076, 'midde': 3077, 'crowds': 3078, 'nyc/midtown': 3079, 'speedy': 3080, 'con': 3081, 'refurbishment': 3082, 'wii-fi': 3083, 'property-wide': 3084, 'applies': 3085, 'wishing': 3086, 'gets': 3087, 'refrig': 3088, 'chilaquiles': 3089, 'cappucino': 3090, '7:20a.m': 3091, 'glance': 3092, 'ordered': 3093, 'drank': 3094, 'crossword': 3095, '7:40': 3096, 'a.m': 3097, 'eating': 3098, 'twenty': 3099, 'server': 3100, 'punishing': 3101, 'cook': 3102, 'grocer': 3103, 'blueberries': 3104, 'tables': 3105, 'youngster': 3106, 'sufficient': 3107, 'greatly': 3108, 'apprehensive': 3109, 'loaner': 3110, 'trails': 3111, 'aminity': 3112, 'enought': 3113, 'arrivial': 3114, 'lotion': 3115, 'via': 3116, 'pond': 3117, 'surrounds': 3118, 'atmospheres': 3119, 'stopping': 3120, 'receiving': 3121, 'advising': 3122, 'given': 3123, 'id': 3124, 'prepared': 3125, 'closing': 3126, 'drench': 3127, 'careful': 3128, 'valentines': 3129, 'prompt': 3130, 'exclusively': 3131, 'dedicated': 3132, 'dull': 3133, 'boring': 3134, 'partially': 3135, 'wrapped': 3136, 'plastic': 3137, 'matters': 3138, 'scaffolding': 3139, 'astounded': 3140, 'equally': 3141, 'bare': 3142, 'piece': 3143, 'art-work': 3144, 'assigns': 3145, 'north': 3146, 'disappointing': 3147, '8.00': 3148, 'parked': 3149, 'inserting': 3150, 'gate': 3151, 'hanging': 3152, 'rip-off': 3153, 'add': 3154, 'approve': 3155, 'dishonest': 3156, 'defense': 3157, 'bogus': 3158, 'cleanest': 3159, 'well-located': 3160, 'nationals': 3161, 'ball': 3162, 'yard': 3163, 'government': 3164, 'buildings': 3165, 'uniformly': 3166, 'run-of-the-mill': 3167, 'aomelette': 3168, 'thomelette': 3169, 'scrambled': 3170, 'pre-mix': 3171, 'carton': 3172, 'sunny': 3173, 'luck': 3174, 'meals': 3175, 'guys': 3176, 'nearly': 3177, 'counted': 3178, 'appears': 3179, 'deigned': 3180, 'drives': 3181, 'fiat': 3182, '500.': 3183, 'degree': 3184, 'skill': 3185, 'spaces': 3186, 'question': 3187, '11th': 3188, 'unsure': 3189, '1121': 3190, 'facets': 3191, 'awful': 3192, 'plain': 3193, 'unacceptable': 3194, 'list': 3195, 'beginning': 3196, 'floor/room': 3197, 'shaky-scary': 3198, 'movements': 3199, 'repair': 3200, 'van': 3201, 'repairing': 3202, 'socks': 3203, 'dirtied': 3204, 'tiles': 3205, 'wiped': 3206, 'wet': 3207, 'towel': 3208, 'repellant': 3209, 'resistant': 3210, 'dusty': 3211, 'bases': 3212, 'headboards': 3213, 'onto': 3214, 'fabric': 3215, 'fluorescent': 3216, 'bulbs': 3217, 'green': 3218, 'visibilty': 3219, 'glowing': 3220, 'yellowish-green': 3221, 'headache-inducing': 3222, 'bedcovers': 3223, 'smudged': 3224, 'high-elevation': 3225, 'dried': 3226, 'bringing': 3227, 'plans': 3228, 'bothersome': 3229, 'eden': 3230, 'west': 3231, 'avoided': 3232, 'costs': 3233, 'diners': 3234, 'fluoresent': 3235, 'greenish': 3236, 'tinge': 3237, 'creepy': 3238, 'half-hour': 3239, 'meantime': 3240, 'bread': 3241, 'burned': 3242, 'rolls': 3243, 'inquired': 3244, 'unburned': 3245, 'unexplicably': 3246, 'spicy': 3247, 'pepperoni-infused': 3248, 'inedible': 3249, 'unexceptional': 3250, 'ravenous': 3251, 'constraints': 3252, 'manner': 3253, 'tenders-type': 3254, 'featured': 3255, 'tenders': 3256, 'unlike': 3257, 'wavy': 3258, 'stringy': 3259, 'batter': 3260, 'changed': 3261, 'tender': 3262, 'fries': 3263, 'edible': 3264, 'deemed': 3265, 'presence': 3266, 'mid-chew': 3267, 'cafe/convenience': 3268, 'viewed': 3269, 'inexplicably': 3270, 'posted': 3271, 'cloudiness': 3272, 'bothered': 3273, 'i.': 3274, 'lifeguard': 3275, 'duty': 3276, 'housekeeper': 3277, 'tissue': 3278, 'tall': 3279, 'undertaken': 3280, 'rates': 3281, 'slowly': 3282, 'invest': 3283, 'soundproofing': 3284, 'it.as': 3285, 'ratings': 3286, 'users': 3287, 'it.also': 3288, '140': 3289, 'saturday': 3290, 'tower': 3291, 'tiniest': 3292, 'recall': 3293, 'caliber': 3294, 'problematic': 3295, 'blocked': 3296, 'overflow': 3297, 'relatively': 3298, 'humid': 3299, 'chlorine': 3300, 'larger': 3301, 'suffered': 3302, 'hostess': 3303, 'unattended': 3304, 'stepped': 3305, 'crabcake': 3306, 'sandwich': 3307, 'soda': 3308, 'showing': 3309, 'peeling': 3310, 'sill': 3311, 'veneer': 3312, 'breaking': 3313, 'fraying': 3314, 'halls': 3315, 'trickled': 3316, \"l'occitane\": 3317, 'keurig': 3318, 'matched': 3319, 'handlery': 3320, 'reality': 3321, 'face': 3322, 'highest': 3323, 'setting': 3324, 'nightly': 3325, 'banquet': 3326, 'unbelievably': 3327, 'handle': 3328, 'amos': 3329, 'southend': 3330, 'mailed': 3331, 'celebrating': 3332, 'response': 3333, 'david': 3334, \"o'keefe\": 3335, '24th': 3336, 'receptionist': 3337, 'charming': 3338, 'envelope': 3339, 'cocktails': 3340, 'ladies': 3341, 'sharing': 3342, 'masses': 3343, 'pounding': 3344, 'something/people': 3345, 'buzzy': 3346, 'outweighed': 3347, 'faded': 3348, 'upholstery': 3349, 'snootier': 3350, 'marathon': 3351, 'four-season': 3352, 'peninusla': 3353, 'ilana': 3354, 'evertime': 3355, 'hello': 3356, 'firt': 3357, 'suggest': 3358, 'reasonbly': 3359, 'patron': 3360, 'ivy': 3361, 'menus': 3362, 'sliders': 3363, 'spoke': 3364, 'lynn': 3365, \"o'hare\": 3366, 'chosen': 3367, 'wisely': 3368, 'dine': 3369, '24-hour': 3370, 'thrill': 3371, 'books': 3372, 'sight-see': 3373, 'brotherly': 3374, 'group': 3375, 'springhill': 3376, 'country': 3377, 'transports': 3378, 'entering': 3379, 'heavenly': 3380, 'describes': 3381, 'skate': 3382, 'impecable': 3383, 'sad': 3384, 'décor': 3385, 'asset': 3386, 'well-kept': 3387, 'mary': 3388, 'had.the': 3389, 'anyone.the': 3390, 'red': 3391, 'roof': 3392, 'swift': 3393, 'thereafter': 3394, 'woken': 3395, 'asking': 3396, 'disappeared': 3397, 'accomodations': 3398, 'unseen': 3399, 'interacted': 3400, 'eager': 3401, 'satisfied': 3402, 'extended': 3403, 'replenished': 3404, 'towards': 3405, 'coronado': 3406, 'mid-week': 3407, 'fishing': 3408, 'teenage': 3409, 'spur-of-the-moment': 3410, 'discounts': 3411, 'exhaustive': 3412, 'search': 3413, 'pointe': 3414, 'squaw': 3415, 'peak': 3416, 'voucher': 3417, '200/night': 3418, 'ranch': 3419, 'disliked': 3420, 'agents': 3421, 'lengthy': 3422, 'transactions': 3423, 'hold': 3424, 'duvets': 3425, 'room-darkening': 3426, 'shades': 3427, 'young': 3428, 'chaises': 3429, 'greeting': 3430, 'wristbands': 3431, 'margaritas': 3432, 'rita': 3433, 'marge': 3434, 'rocks': 3435, 'blended': 3436, 'overly': 3437, 'diluted': 3438, 'poolside': 3439, 'slide': 3440, 'tons': 3441, 'lazy': 3442, 'inordinate': 3443, 'teen': 3444, 'safety': 3445, 'concern': 3446, 'gated': 3447, 'younger': 3448, 'confident': 3449, 'swimmers': 3450, 'floated': 3451, 'ha': 3452, 'rico': 3453, 'tuesday': 3454, 'bent': 3455, 'backwards': 3456, 'opted': 3457, 'appetizers': 3458, 'patio': 3459, 'in-town': 3460, 'lived': 3461, 'pricier': 3462, 'wear-and-tear': 3463, 'travelers': 3464, 'freeways': 3465, 'western': 3466, 'pleasantly': 3467, 'oceanfront': 3468, 'michelle': 3469, 'exhibited': 3470, 'assets': 3471, 'providing': 3472, 'ruben': 3473, 'garza': 3474, 'boardwalk': 3475, 'jacuzzi': 3476, 'quest': 3477, 'associates': 3478, 'modernised': 3479, 'speed': 3480, 'lets': 3481, 'begin': 3482, 'ranging': 3483, 'perspective': 3484, 'divers': 3485, 'cloths': 3486, 'dent': 3487, 'painted': 3488, 'enter': 3489, 'inspection': 3490, 'dead': 3491, 'roach': 3492, 'upside': 3493, 'instance': 3494, 'chip': 3495, 'vacuumed': 3496, 'random': 3497, 'grabbing': 3498, 'interjected': 3499, 'gross': 3500, 'shake': 3501, 'possibly': 3502, 'eyes': 3503, 'dump': 3504, 'grant': 3505, 'lake': 3506, 'lounger': 3507, 'combined': 3508, 'business/pleasure': 3509}\n"
     ]
    }
   ],
   "source": []
  },
  {
   "cell_type": "code",
   "execution_count": null,
   "metadata": {},
   "outputs": [],
   "source": []
  }
 ],
 "metadata": {
  "kernelspec": {
   "display_name": "ing2",
   "language": "python",
   "name": "python3"
  },
  "language_info": {
   "codemirror_mode": {
    "name": "ipython",
    "version": 3
   },
   "file_extension": ".py",
   "mimetype": "text/x-python",
   "name": "python",
   "nbconvert_exporter": "python",
   "pygments_lexer": "ipython3",
   "version": "3.13.2"
  }
 },
 "nbformat": 4,
 "nbformat_minor": 2
}
